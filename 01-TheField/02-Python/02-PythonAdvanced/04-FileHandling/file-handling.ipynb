{
 "cells": [
  {
   "cell_type": "markdown",
   "metadata": {},
   "source": [
    "# Reading and writing files"
   ]
  },
  {
   "cell_type": "markdown",
   "metadata": {},
   "source": [
    "We have made good progress and now we can get down to the more serious task of manipulating files. This is one of the very important points concerning this training. \n",
    "\n",
    "\n",
    "N.B: Most of the files in `./data/` are files that we will use to understand how file opening works. They don't have a special purpose other than that. "
   ]
  },
  {
   "cell_type": "markdown",
   "metadata": {},
   "source": [
    "To open/edit a file in python we use the `open()` function.\n",
    "\n",
    "This function takes as first parameter the path of the file (*relative* or *absolute*) and as second parameter the type of opening, _i.e._ reading or writing mode.\n",
    "\n",
    "A **relative path** in computing is a path that takes into account the current location. The path is **relative** to where it is called from\n",
    "\n",
    "- **Example:** _./data/data.txt_\n",
    "\n",
    "An **absolute path** is a complete path that can be read regardless of the reading location\n",
    "\n",
    "- **Example:** _/Users/becodian/Desktop/BeCode/ai-track/content/2.python/2.python_advanced/04.File-handling/data/data.txt_\n",
    "\n",
    "The best practice is to always use **relative** paths in your Python code. In this way your code can be shared **as it is** with your colleagues. An absolute path will generate an error since it exists only on your own computer.\n",
    "\n"
   ]
  },
  {
   "cell_type": "code",
   "execution_count": 1,
   "metadata": {},
   "outputs": [],
   "source": [
    "filename = \"./data/data.txt\"\n",
    "my_file = open(filename, \"r\")  # r for \"read\""
   ]
  },
  {
   "cell_type": "markdown",
   "metadata": {},
   "source": [
    "- `\"r\"`, for a read opening (READ).\n",
    "\n",
    "- `\"w\"`, for a write opening (WRITE), each time the file is opened, the content of the file is overwritten. If the file does not exist, Python creates it. \n",
    "\n",
    "    *The Python docs say that `w+` will \"overwrite the existing file if the file exists\". So as soon as you open a file with `w+`, it is now an empty file: it contains 0 bytes. If it used to contain data, that data has been truncated — cut off and thrown away — and now the file size is 0 bytes, so you can't read any of the data that existed before you opened the file with `w+`. If you actually wanted to read the previous data and add to it, you should use `r+` instead of `w+`* [[Source]](https://stackoverflow.com/questions/16208206/confused-by-python-file-mode-w#comment83227862_16208298)\n",
    "    \n",
    "    \n",
    "\n",
    "- `\"a\"`, for an opening in add mode at the end of the file (APPEND). If the file does not exist, Python creates it.\n",
    "\n",
    "- `\"x\"`, creates a new file and opens it for writing\n",
    "\n",
    "You can also append the character `+` and `b` to nearly all of the above commands. [[More info here]](https://stackabuse.com/file-handling-in-python/)"
   ]
  },
  {
   "cell_type": "markdown",
   "metadata": {},
   "source": [
    "Like any open element, it must be closed again once the instructions have been completed. To do this, we use the `close()` method."
   ]
  },
  {
   "cell_type": "code",
   "execution_count": 8,
   "metadata": {},
   "outputs": [],
   "source": [
    "my_file.close()"
   ]
  },
  {
   "cell_type": "code",
   "execution_count": 7,
   "metadata": {},
   "outputs": [
    {
     "name": "stdout",
     "output_type": "stream",
     "text": [
      "Hi everyone, I'm adding sentences to the file !\n"
     ]
    }
   ],
   "source": [
    "# Let's find out what's going on there\n",
    "my_file = open(filename, \"r\")\n",
    "print(my_file.read())\n",
    "my_file.close()"
   ]
  },
  {
   "cell_type": "markdown",
   "metadata": {},
   "source": [
    "Another possibility of opening without closing by using a **with** statement. That's a **best practice** and you should use that as much as you can."
   ]
  },
  {
   "cell_type": "code",
   "execution_count": 6,
   "metadata": {},
   "outputs": [
    {
     "name": "stdout",
     "output_type": "stream",
     "text": [
      "Hi everyone, I'm adding sentences to the file !\n"
     ]
    }
   ],
   "source": [
    "with open(filename, \"r\") as my_file:\n",
    "    print(my_file.read())"
   ]
  },
  {
   "cell_type": "markdown",
   "metadata": {},
   "source": [
    "Can you create a list based on the contents of this file? Each word should be an element of the list\n",
    "*(Use `.split()` for example...)*"
   ]
  },
  {
   "cell_type": "code",
   "execution_count": 11,
   "metadata": {},
   "outputs": [
    {
     "name": "stdout",
     "output_type": "stream",
     "text": [
      "['Hi', 'everyone,', \"I'm\", 'adding', 'sentences', 'to', 'the', 'file', '!']\n"
     ]
    }
   ],
   "source": [
    "# YOUR CODE HERE\n",
    "list=open(filename,\"r\")\n",
    "\n",
    "print(list.read().split())\n"
   ]
  },
  {
   "cell_type": "markdown",
   "metadata": {},
   "source": [
    "To write in a file, just **open** (existing or not), write in it and close it. We open it in mode `\"w\"` so that the previous data is deleted and new data can be added."
   ]
  },
  {
   "cell_type": "code",
   "execution_count": 14,
   "metadata": {},
   "outputs": [],
   "source": [
    "\n",
    "new_filename = \"./data/data_new.txt\"\n",
    "file = open(new_filename, \"w\")\n",
    "file.write(\"Hi everyone, I'm adding sentences to the file !\")\n",
    "file.close()"
   ]
  },
  {
   "cell_type": "markdown",
   "metadata": {},
   "source": [
    "Can you take the content of the `data.txt` file from the `./data/` directory, capitalize all the words and write them in the file that you created just before, after the sentences you added?\n"
   ]
  },
  {
   "cell_type": "code",
   "execution_count": 16,
   "metadata": {},
   "outputs": [
    {
     "name": "stdout",
     "output_type": "stream",
     "text": [
      "Hi everyone, I'm adding sentences to the file ! <_io.TextIOWrapper name='./data/data_new.txt' mode='a' encoding='cp1254'>\n"
     ]
    }
   ],
   "source": [
    "# It's up to you to write the end\n",
    "array = []\n",
    "with open(filename, \"r\") as input_file:\n",
    "    with open(new_filename, \"a\") as output_file:\n",
    "        content=input_file.read()\n",
    "        output_file.write(content)\n",
    "        pass\n",
    "\n",
    "print(content,output_file)\n"
   ]
  },
  {
   "cell_type": "markdown",
   "metadata": {},
   "source": [
    "## Management of directory paths..."
   ]
  },
  {
   "cell_type": "markdown",
   "metadata": {},
   "source": [
    "The `os` module is a library that provides a portable way of using operating system dependent functionality.\n",
    "In this chapter, we are interested in using its powerful file path handling capabilities using `os.path`."
   ]
  },
  {
   "cell_type": "code",
   "execution_count": 17,
   "metadata": {},
   "outputs": [],
   "source": [
    "import os"
   ]
  },
  {
   "cell_type": "markdown",
   "metadata": {},
   "source": [
    "Each file or folder is associated with a kind of address that makes it easy to find it without errors. It is not possible to have a file with an identical name as another inside the same folder (except if the file extension is different).\n",
    "\n",
    "As said before, there are two kinds of paths: the absolute path from the root of your file system and the relative path from the folder being read."
   ]
  },
  {
   "cell_type": "markdown",
   "metadata": {},
   "source": [
    "By using `help` function, we can see the available methods."
   ]
  },
  {
   "cell_type": "code",
   "execution_count": 18,
   "metadata": {},
   "outputs": [
    {
     "name": "stdout",
     "output_type": "stream",
     "text": [
      "Help on module ntpath:\n",
      "\n",
      "NAME\n",
      "    ntpath - Common pathname manipulations, WindowsNT/95 version.\n",
      "\n",
      "MODULE REFERENCE\n",
      "    https://docs.python.org/3.11/library/ntpath.html\n",
      "    \n",
      "    The following documentation is automatically generated from the Python\n",
      "    source files.  It may be incomplete, incorrect or include features that\n",
      "    are considered implementation detail and may vary between Python\n",
      "    implementations.  When in doubt, consult the module reference at the\n",
      "    location listed above.\n",
      "\n",
      "DESCRIPTION\n",
      "    Instead of importing this module directly, import os and refer to this\n",
      "    module as os.path.\n",
      "\n",
      "FUNCTIONS\n",
      "    abspath(path)\n",
      "        Return the absolute version of a path.\n",
      "    \n",
      "    basename(p)\n",
      "        Returns the final component of a pathname\n",
      "    \n",
      "    commonpath(paths)\n",
      "        Given a sequence of path names, returns the longest common sub-path.\n",
      "    \n",
      "    commonprefix(m)\n",
      "        Given a list of pathnames, returns the longest common leading component\n",
      "    \n",
      "    dirname(p)\n",
      "        Returns the directory component of a pathname\n",
      "    \n",
      "    exists(path)\n",
      "        Test whether a path exists.  Returns False for broken symbolic links\n",
      "    \n",
      "    expanduser(path)\n",
      "        Expand ~ and ~user constructs.\n",
      "        \n",
      "        If user or $HOME is unknown, do nothing.\n",
      "    \n",
      "    expandvars(path)\n",
      "        Expand shell variables of the forms $var, ${var} and %var%.\n",
      "        \n",
      "        Unknown variables are left unchanged.\n",
      "    \n",
      "    getatime(filename)\n",
      "        Return the last access time of a file, reported by os.stat().\n",
      "    \n",
      "    getctime(filename)\n",
      "        Return the metadata change time of a file, reported by os.stat().\n",
      "    \n",
      "    getmtime(filename)\n",
      "        Return the last modification time of a file, reported by os.stat().\n",
      "    \n",
      "    getsize(filename)\n",
      "        Return the size of a file, reported by os.stat().\n",
      "    \n",
      "    isabs(s)\n",
      "        Test whether a path is absolute\n",
      "    \n",
      "    isdir(s)\n",
      "        Return true if the pathname refers to an existing directory.\n",
      "    \n",
      "    isfile(path)\n",
      "        Test whether a path is a regular file\n",
      "    \n",
      "    islink(path)\n",
      "        Test whether a path is a symbolic link.\n",
      "        This will always return false for Windows prior to 6.0.\n",
      "    \n",
      "    ismount(path)\n",
      "        Test whether a path is a mount point (a drive root, the root of a\n",
      "        share, or a mounted volume)\n",
      "    \n",
      "    join(path, *paths)\n",
      "    \n",
      "    lexists(path)\n",
      "        Test whether a path exists.  Returns True for broken symbolic links\n",
      "    \n",
      "    normcase(s)\n",
      "        Normalize case of pathname.\n",
      "        \n",
      "        Makes all characters lowercase and all slashes into backslashes.\n",
      "    \n",
      "    normpath(path)\n",
      "        Normalize path, eliminating double slashes, etc.\n",
      "    \n",
      "    realpath(path, *, strict=False)\n",
      "    \n",
      "    relpath(path, start=None)\n",
      "        Return a relative version of a path\n",
      "    \n",
      "    samefile(f1, f2)\n",
      "        Test whether two pathnames reference the same actual file or directory\n",
      "        \n",
      "        This is determined by the device number and i-node number and\n",
      "        raises an exception if an os.stat() call on either pathname fails.\n",
      "    \n",
      "    sameopenfile(fp1, fp2)\n",
      "        Test whether two open file objects reference the same file\n",
      "    \n",
      "    samestat(s1, s2)\n",
      "        Test whether two stat buffers reference the same file\n",
      "    \n",
      "    split(p)\n",
      "        Split a pathname.\n",
      "        \n",
      "        Return tuple (head, tail) where tail is everything after the final slash.\n",
      "        Either part may be empty.\n",
      "    \n",
      "    splitdrive(p)\n",
      "        Split a pathname into drive/UNC sharepoint and relative path specifiers.\n",
      "        Returns a 2-tuple (drive_or_unc, path); either part may be empty.\n",
      "        \n",
      "        If you assign\n",
      "            result = splitdrive(p)\n",
      "        It is always true that:\n",
      "            result[0] + result[1] == p\n",
      "        \n",
      "        If the path contained a drive letter, drive_or_unc will contain everything\n",
      "        up to and including the colon.  e.g. splitdrive(\"c:/dir\") returns (\"c:\", \"/dir\")\n",
      "        \n",
      "        If the path contained a UNC path, the drive_or_unc will contain the host name\n",
      "        and share up to but not including the fourth directory separator character.\n",
      "        e.g. splitdrive(\"//host/computer/dir\") returns (\"//host/computer\", \"/dir\")\n",
      "        \n",
      "        Paths cannot contain both a drive letter and a UNC path.\n",
      "    \n",
      "    splitext(p)\n",
      "        Split the extension from a pathname.\n",
      "        \n",
      "        Extension is everything from the last dot to the end, ignoring\n",
      "        leading dots.  Returns \"(root, ext)\"; ext may be empty.\n",
      "\n",
      "DATA\n",
      "    __all__ = ['normcase', 'isabs', 'join', 'splitdrive', 'split', 'splite...\n",
      "    altsep = '/'\n",
      "    curdir = '.'\n",
      "    defpath = r'.;C:\\bin'\n",
      "    devnull = 'nul'\n",
      "    extsep = '.'\n",
      "    pardir = '..'\n",
      "    pathsep = ';'\n",
      "    sep = r'\\'\n",
      "    supports_unicode_filenames = True\n",
      "\n",
      "FILE\n",
      "    c:\\program files\\windowsapps\\pythonsoftwarefoundation.python.3.11_3.11.2544.0_x64__qbz5n2kfra8p0\\lib\\ntpath.py\n",
      "\n",
      "\n"
     ]
    }
   ],
   "source": [
    "help(os.path)"
   ]
  },
  {
   "cell_type": "markdown",
   "metadata": {},
   "source": [
    "To know your current absolute path, use `abspath('')`"
   ]
  },
  {
   "cell_type": "code",
   "execution_count": 19,
   "metadata": {},
   "outputs": [
    {
     "name": "stdout",
     "output_type": "stream",
     "text": [
      "c:\\Users\\Ezgi Tandoğan\\Desktop\\LGG-Thomas4-Ezgi\\01-TheField\\02-Python\\02-PythonAdvanced\\04-FileHandling\n",
      "<class 'str'>\n"
     ]
    }
   ],
   "source": [
    "# In Python a path is a string, so there are methods to manipulate it.\n",
    "path = os.path.abspath(\"\")\n",
    "print(path)\n",
    "print(type(path))"
   ]
  },
  {
   "cell_type": "markdown",
   "metadata": {},
   "source": [
    " To get the **directory** containing a path, usr `dirname(path)`."
   ]
  },
  {
   "cell_type": "code",
   "execution_count": 20,
   "metadata": {},
   "outputs": [
    {
     "data": {
      "text/plain": [
       "'c:\\\\Users\\\\Ezgi Tandoğan\\\\Desktop\\\\LGG-Thomas4-Ezgi\\\\01-TheField\\\\02-Python\\\\02-PythonAdvanced'"
      ]
     },
     "execution_count": 20,
     "metadata": {},
     "output_type": "execute_result"
    }
   ],
   "source": [
    "os.path.dirname(path)"
   ]
  },
  {
   "cell_type": "markdown",
   "metadata": {},
   "source": [
    "To only get the file name of a path (or directory name if this is a directory), use `basename(path)`."
   ]
  },
  {
   "cell_type": "code",
   "execution_count": 21,
   "metadata": {},
   "outputs": [
    {
     "data": {
      "text/plain": [
       "'04-FileHandling'"
      ]
     },
     "execution_count": 21,
     "metadata": {},
     "output_type": "execute_result"
    }
   ],
   "source": [
    "os.path.basename(path)"
   ]
  },
  {
   "cell_type": "markdown",
   "metadata": {},
   "source": [
    "To add a directory, let's say `\"text\"` to the path, we use `join()`. \n",
    "\n",
    "The cool thing is that it is compatible across operating systems. Meaning that on Windows it will automatically add `\\` between the arguments of `os.path.join`, and on Linux it will add `/`. The same code thus works on every operating system!"
   ]
  },
  {
   "cell_type": "code",
   "execution_count": 22,
   "metadata": {},
   "outputs": [
    {
     "name": "stdout",
     "output_type": "stream",
     "text": [
      "c:\\Users\\Ezgi Tandoğan\\Desktop\\LGG-Thomas4-Ezgi\\01-TheField\\02-Python\\02-PythonAdvanced\\04-FileHandling\\text\n"
     ]
    }
   ],
   "source": [
    "rep_text = os.path.join(path, \"text\")\n",
    "print(rep_text)"
   ]
  },
  {
   "cell_type": "markdown",
   "metadata": {},
   "source": [
    "To retrieve all the elements of a folder as a list, you can use the `listdir()` method."
   ]
  },
  {
   "cell_type": "code",
   "execution_count": 23,
   "metadata": {},
   "outputs": [
    {
     "data": {
      "text/plain": [
       "['01-OOP',\n",
       " '02-ExceptionHandling',\n",
       " '03-Regex',\n",
       " '04-FileHandling',\n",
       " '05-Scraping',\n",
       " '06-Concurrency',\n",
       " '07-Decorators',\n",
       " '08-Typing',\n",
       " '09-DataStructures',\n",
       " '10-UnitTesting',\n",
       " 'README.md']"
      ]
     },
     "execution_count": 23,
     "metadata": {},
     "output_type": "execute_result"
    }
   ],
   "source": [
    "# Items are returned as a list and includes folders and hidden files.\n",
    "os.listdir(\"../\")"
   ]
  },
  {
   "cell_type": "markdown",
   "metadata": {},
   "source": [
    "### How to display all the elements of a folder as well as its child folders? \n",
    "\n",
    "With the `walk()` function:\n",
    "\n",
    "```\n",
    "walk(top, topdown=True, onerror=None, followlinks=False)\n",
    "```\n"
   ]
  },
  {
   "cell_type": "code",
   "execution_count": 24,
   "metadata": {},
   "outputs": [
    {
     "name": "stdout",
     "output_type": "stream",
     "text": [
      "c:\\Users\\Ezgi Tandoğan\\Desktop\\LGG-Thomas4-Ezgi\\01-TheField\\02-Python\\02-PythonAdvanced\\04-FileHandling\n",
      "c:\\Users\\Ezgi Tandoğan\\Desktop\\LGG-Thomas4-Ezgi\\01-TheField\\02-Python\\02-PythonAdvanced\\04-FileHandling\\file-handling.ipynb\n",
      "c:\\Users\\Ezgi Tandoğan\\Desktop\\LGG-Thomas4-Ezgi\\01-TheField\\02-Python\\02-PythonAdvanced\\04-FileHandling\\data\\comptagevelo2017.csv\n",
      "c:\\Users\\Ezgi Tandoğan\\Desktop\\LGG-Thomas4-Ezgi\\01-TheField\\02-Python\\02-PythonAdvanced\\04-FileHandling\\data\\comptagevelo2017.xlsx\n",
      "c:\\Users\\Ezgi Tandoğan\\Desktop\\LGG-Thomas4-Ezgi\\01-TheField\\02-Python\\02-PythonAdvanced\\04-FileHandling\\data\\data.txt\n",
      "c:\\Users\\Ezgi Tandoğan\\Desktop\\LGG-Thomas4-Ezgi\\01-TheField\\02-Python\\02-PythonAdvanced\\04-FileHandling\\data\\data_new.txt\n",
      "c:\\Users\\Ezgi Tandoğan\\Desktop\\LGG-Thomas4-Ezgi\\01-TheField\\02-Python\\02-PythonAdvanced\\04-FileHandling\\data\\L'équipe,du sport en continu..html\n",
      "c:\\Users\\Ezgi Tandoğan\\Desktop\\LGG-Thomas4-Ezgi\\01-TheField\\02-Python\\02-PythonAdvanced\\04-FileHandling\\data\\mail.txt\n",
      "c:\\Users\\Ezgi Tandoğan\\Desktop\\LGG-Thomas4-Ezgi\\01-TheField\\02-Python\\02-PythonAdvanced\\04-FileHandling\\data\\VOEUX01.txt\n",
      "c:\\Users\\Ezgi Tandoğan\\Desktop\\LGG-Thomas4-Ezgi\\01-TheField\\02-Python\\02-PythonAdvanced\\04-FileHandling\\data\\VOEUX05.txt\n",
      "c:\\Users\\Ezgi Tandoğan\\Desktop\\LGG-Thomas4-Ezgi\\01-TheField\\02-Python\\02-PythonAdvanced\\04-FileHandling\\data\\VOEUX06.txt\n",
      "c:\\Users\\Ezgi Tandoğan\\Desktop\\LGG-Thomas4-Ezgi\\01-TheField\\02-Python\\02-PythonAdvanced\\04-FileHandling\\data\\VOEUX07.txt\n",
      "c:\\Users\\Ezgi Tandoğan\\Desktop\\LGG-Thomas4-Ezgi\\01-TheField\\02-Python\\02-PythonAdvanced\\04-FileHandling\\data\\VOEUX08.txt\n",
      "c:\\Users\\Ezgi Tandoğan\\Desktop\\LGG-Thomas4-Ezgi\\01-TheField\\02-Python\\02-PythonAdvanced\\04-FileHandling\\data\\VOEUX09.txt\n",
      "c:\\Users\\Ezgi Tandoğan\\Desktop\\LGG-Thomas4-Ezgi\\01-TheField\\02-Python\\02-PythonAdvanced\\04-FileHandling\\data\\VOEUX74.txt\n",
      "c:\\Users\\Ezgi Tandoğan\\Desktop\\LGG-Thomas4-Ezgi\\01-TheField\\02-Python\\02-PythonAdvanced\\04-FileHandling\\data\\VOEUX75.txt\n",
      "c:\\Users\\Ezgi Tandoğan\\Desktop\\LGG-Thomas4-Ezgi\\01-TheField\\02-Python\\02-PythonAdvanced\\04-FileHandling\\data\\VOEUX79.txt\n",
      "c:\\Users\\Ezgi Tandoğan\\Desktop\\LGG-Thomas4-Ezgi\\01-TheField\\02-Python\\02-PythonAdvanced\\04-FileHandling\\data\\VOEUX83.txt\n",
      "c:\\Users\\Ezgi Tandoğan\\Desktop\\LGG-Thomas4-Ezgi\\01-TheField\\02-Python\\02-PythonAdvanced\\04-FileHandling\\data\\VOEUX87.txt\n",
      "c:\\Users\\Ezgi Tandoğan\\Desktop\\LGG-Thomas4-Ezgi\\01-TheField\\02-Python\\02-PythonAdvanced\\04-FileHandling\\data\\VOEUX89.txt\n",
      "c:\\Users\\Ezgi Tandoğan\\Desktop\\LGG-Thomas4-Ezgi\\01-TheField\\02-Python\\02-PythonAdvanced\\04-FileHandling\\data\\VOEUX90.txt\n",
      "c:\\Users\\Ezgi Tandoğan\\Desktop\\LGG-Thomas4-Ezgi\\01-TheField\\02-Python\\02-PythonAdvanced\\04-FileHandling\\data\\VOEUX94.txt\n",
      "c:\\Users\\Ezgi Tandoğan\\Desktop\\LGG-Thomas4-Ezgi\\01-TheField\\02-Python\\02-PythonAdvanced\\04-FileHandling\\data\\weather_2012.csv\n",
      "c:\\Users\\Ezgi Tandoğan\\Desktop\\LGG-Thomas4-Ezgi\\01-TheField\\02-Python\\02-PythonAdvanced\\04-FileHandling\\data\\weather_2017.csv\n",
      "c:\\Users\\Ezgi Tandoğan\\Desktop\\LGG-Thomas4-Ezgi\\01-TheField\\02-Python\\02-PythonAdvanced\\04-FileHandling\\data\\write.txt\n",
      "c:\\Users\\Ezgi Tandoğan\\Desktop\\LGG-Thomas4-Ezgi\\01-TheField\\02-Python\\02-PythonAdvanced\\04-FileHandling\\data\\lequipe-du sport en continu._files\\0a315.jpg\n",
      "c:\\Users\\Ezgi Tandoğan\\Desktop\\LGG-Thomas4-Ezgi\\01-TheField\\02-Python\\02-PythonAdvanced\\04-FileHandling\\data\\lequipe-du sport en continu._files\\0CA20181029124202ADs201810291242024F98d8q4aBxcs.js\n",
      "c:\\Users\\Ezgi Tandoğan\\Desktop\\LGG-Thomas4-Ezgi\\01-TheField\\02-Python\\02-PythonAdvanced\\04-FileHandling\\data\\lequipe-du sport en continu._files\\0d3f9.png\n",
      "c:\\Users\\Ezgi Tandoğan\\Desktop\\LGG-Thomas4-Ezgi\\01-TheField\\02-Python\\02-PythonAdvanced\\04-FileHandling\\data\\lequipe-du sport en continu._files\\0f245.jpg\n",
      "c:\\Users\\Ezgi Tandoğan\\Desktop\\LGG-Thomas4-Ezgi\\01-TheField\\02-Python\\02-PythonAdvanced\\04-FileHandling\\data\\lequipe-du sport en continu._files\\110.png\n",
      "c:\\Users\\Ezgi Tandoğan\\Desktop\\LGG-Thomas4-Ezgi\\01-TheField\\02-Python\\02-PythonAdvanced\\04-FileHandling\\data\\lequipe-du sport en continu._files\\125278988146629\n",
      "c:\\Users\\Ezgi Tandoğan\\Desktop\\LGG-Thomas4-Ezgi\\01-TheField\\02-Python\\02-PythonAdvanced\\04-FileHandling\\data\\lequipe-du sport en continu._files\\140(1).jpg\n",
      "c:\\Users\\Ezgi Tandoğan\\Desktop\\LGG-Thomas4-Ezgi\\01-TheField\\02-Python\\02-PythonAdvanced\\04-FileHandling\\data\\lequipe-du sport en continu._files\\140(10).jpg\n",
      "c:\\Users\\Ezgi Tandoğan\\Desktop\\LGG-Thomas4-Ezgi\\01-TheField\\02-Python\\02-PythonAdvanced\\04-FileHandling\\data\\lequipe-du sport en continu._files\\140(11).jpg\n",
      "c:\\Users\\Ezgi Tandoğan\\Desktop\\LGG-Thomas4-Ezgi\\01-TheField\\02-Python\\02-PythonAdvanced\\04-FileHandling\\data\\lequipe-du sport en continu._files\\140(2).jpg\n",
      "c:\\Users\\Ezgi Tandoğan\\Desktop\\LGG-Thomas4-Ezgi\\01-TheField\\02-Python\\02-PythonAdvanced\\04-FileHandling\\data\\lequipe-du sport en continu._files\\140(3).jpg\n",
      "c:\\Users\\Ezgi Tandoğan\\Desktop\\LGG-Thomas4-Ezgi\\01-TheField\\02-Python\\02-PythonAdvanced\\04-FileHandling\\data\\lequipe-du sport en continu._files\\140(4).jpg\n",
      "c:\\Users\\Ezgi Tandoğan\\Desktop\\LGG-Thomas4-Ezgi\\01-TheField\\02-Python\\02-PythonAdvanced\\04-FileHandling\\data\\lequipe-du sport en continu._files\\140(5).jpg\n",
      "c:\\Users\\Ezgi Tandoğan\\Desktop\\LGG-Thomas4-Ezgi\\01-TheField\\02-Python\\02-PythonAdvanced\\04-FileHandling\\data\\lequipe-du sport en continu._files\\140(6).jpg\n",
      "c:\\Users\\Ezgi Tandoğan\\Desktop\\LGG-Thomas4-Ezgi\\01-TheField\\02-Python\\02-PythonAdvanced\\04-FileHandling\\data\\lequipe-du sport en continu._files\\140(7).jpg\n",
      "c:\\Users\\Ezgi Tandoğan\\Desktop\\LGG-Thomas4-Ezgi\\01-TheField\\02-Python\\02-PythonAdvanced\\04-FileHandling\\data\\lequipe-du sport en continu._files\\140(8).jpg\n",
      "c:\\Users\\Ezgi Tandoğan\\Desktop\\LGG-Thomas4-Ezgi\\01-TheField\\02-Python\\02-PythonAdvanced\\04-FileHandling\\data\\lequipe-du sport en continu._files\\140(9).jpg\n",
      "c:\\Users\\Ezgi Tandoğan\\Desktop\\LGG-Thomas4-Ezgi\\01-TheField\\02-Python\\02-PythonAdvanced\\04-FileHandling\\data\\lequipe-du sport en continu._files\\140.jpg\n",
      "c:\\Users\\Ezgi Tandoğan\\Desktop\\LGG-Thomas4-Ezgi\\01-TheField\\02-Python\\02-PythonAdvanced\\04-FileHandling\\data\\lequipe-du sport en continu._files\\1ce06.jpg\n",
      "c:\\Users\\Ezgi Tandoğan\\Desktop\\LGG-Thomas4-Ezgi\\01-TheField\\02-Python\\02-PythonAdvanced\\04-FileHandling\\data\\lequipe-du sport en continu._files\\1x1.a\n",
      "c:\\Users\\Ezgi Tandoğan\\Desktop\\LGG-Thomas4-Ezgi\\01-TheField\\02-Python\\02-PythonAdvanced\\04-FileHandling\\data\\lequipe-du sport en continu._files\\201b8.jpg\n",
      "c:\\Users\\Ezgi Tandoğan\\Desktop\\LGG-Thomas4-Ezgi\\01-TheField\\02-Python\\02-PythonAdvanced\\04-FileHandling\\data\\lequipe-du sport en continu._files\\20d4b.jpg\n",
      "c:\\Users\\Ezgi Tandoğan\\Desktop\\LGG-Thomas4-Ezgi\\01-TheField\\02-Python\\02-PythonAdvanced\\04-FileHandling\\data\\lequipe-du sport en continu._files\\226ee.jpg\n",
      "c:\\Users\\Ezgi Tandoğan\\Desktop\\LGG-Thomas4-Ezgi\\01-TheField\\02-Python\\02-PythonAdvanced\\04-FileHandling\\data\\lequipe-du sport en continu._files\\2402-245398-48616-4(1).gif\n",
      "c:\\Users\\Ezgi Tandoğan\\Desktop\\LGG-Thomas4-Ezgi\\01-TheField\\02-Python\\02-PythonAdvanced\\04-FileHandling\\data\\lequipe-du sport en continu._files\\2402-245398-48616-4.gif\n",
      "c:\\Users\\Ezgi Tandoğan\\Desktop\\LGG-Thomas4-Ezgi\\01-TheField\\02-Python\\02-PythonAdvanced\\04-FileHandling\\data\\lequipe-du sport en continu._files\\275(1).jpg\n",
      "c:\\Users\\Ezgi Tandoğan\\Desktop\\LGG-Thomas4-Ezgi\\01-TheField\\02-Python\\02-PythonAdvanced\\04-FileHandling\\data\\lequipe-du sport en continu._files\\275(2).jpg\n",
      "c:\\Users\\Ezgi Tandoğan\\Desktop\\LGG-Thomas4-Ezgi\\01-TheField\\02-Python\\02-PythonAdvanced\\04-FileHandling\\data\\lequipe-du sport en continu._files\\275(3).jpg\n",
      "c:\\Users\\Ezgi Tandoğan\\Desktop\\LGG-Thomas4-Ezgi\\01-TheField\\02-Python\\02-PythonAdvanced\\04-FileHandling\\data\\lequipe-du sport en continu._files\\275(4).jpg\n",
      "c:\\Users\\Ezgi Tandoğan\\Desktop\\LGG-Thomas4-Ezgi\\01-TheField\\02-Python\\02-PythonAdvanced\\04-FileHandling\\data\\lequipe-du sport en continu._files\\275(5).jpg\n",
      "c:\\Users\\Ezgi Tandoğan\\Desktop\\LGG-Thomas4-Ezgi\\01-TheField\\02-Python\\02-PythonAdvanced\\04-FileHandling\\data\\lequipe-du sport en continu._files\\275.jpg\n",
      "c:\\Users\\Ezgi Tandoğan\\Desktop\\LGG-Thomas4-Ezgi\\01-TheField\\02-Python\\02-PythonAdvanced\\04-FileHandling\\data\\lequipe-du sport en continu._files\\30b06.jpg\n",
      "c:\\Users\\Ezgi Tandoğan\\Desktop\\LGG-Thomas4-Ezgi\\01-TheField\\02-Python\\02-PythonAdvanced\\04-FileHandling\\data\\lequipe-du sport en continu._files\\3b4c8.jpg\n",
      "c:\\Users\\Ezgi Tandoğan\\Desktop\\LGG-Thomas4-Ezgi\\01-TheField\\02-Python\\02-PythonAdvanced\\04-FileHandling\\data\\lequipe-du sport en continu._files\\3c6f0.jpg\n",
      "c:\\Users\\Ezgi Tandoğan\\Desktop\\LGG-Thomas4-Ezgi\\01-TheField\\02-Python\\02-PythonAdvanced\\04-FileHandling\\data\\lequipe-du sport en continu._files\\44ddc.jpg\n",
      "c:\\Users\\Ezgi Tandoğan\\Desktop\\LGG-Thomas4-Ezgi\\01-TheField\\02-Python\\02-PythonAdvanced\\04-FileHandling\\data\\lequipe-du sport en continu._files\\49d3b.jpg\n",
      "c:\\Users\\Ezgi Tandoğan\\Desktop\\LGG-Thomas4-Ezgi\\01-TheField\\02-Python\\02-PythonAdvanced\\04-FileHandling\\data\\lequipe-du sport en continu._files\\4f412.jpg\n",
      "c:\\Users\\Ezgi Tandoğan\\Desktop\\LGG-Thomas4-Ezgi\\01-TheField\\02-Python\\02-PythonAdvanced\\04-FileHandling\\data\\lequipe-du sport en continu._files\\6636b.jpg\n",
      "c:\\Users\\Ezgi Tandoğan\\Desktop\\LGG-Thomas4-Ezgi\\01-TheField\\02-Python\\02-PythonAdvanced\\04-FileHandling\\data\\lequipe-du sport en continu._files\\67b5b.jpg\n",
      "c:\\Users\\Ezgi Tandoğan\\Desktop\\LGG-Thomas4-Ezgi\\01-TheField\\02-Python\\02-PythonAdvanced\\04-FileHandling\\data\\lequipe-du sport en continu._files\\6f4bb.jpg\n",
      "c:\\Users\\Ezgi Tandoğan\\Desktop\\LGG-Thomas4-Ezgi\\01-TheField\\02-Python\\02-PythonAdvanced\\04-FileHandling\\data\\lequipe-du sport en continu._files\\6uQTKQJz(1).html\n",
      "c:\\Users\\Ezgi Tandoğan\\Desktop\\LGG-Thomas4-Ezgi\\01-TheField\\02-Python\\02-PythonAdvanced\\04-FileHandling\\data\\lequipe-du sport en continu._files\\6uQTKQJz.html\n",
      "c:\\Users\\Ezgi Tandoğan\\Desktop\\LGG-Thomas4-Ezgi\\01-TheField\\02-Python\\02-PythonAdvanced\\04-FileHandling\\data\\lequipe-du sport en continu._files\\800(1).jpg\n",
      "c:\\Users\\Ezgi Tandoğan\\Desktop\\LGG-Thomas4-Ezgi\\01-TheField\\02-Python\\02-PythonAdvanced\\04-FileHandling\\data\\lequipe-du sport en continu._files\\800.jpg\n",
      "c:\\Users\\Ezgi Tandoğan\\Desktop\\LGG-Thomas4-Ezgi\\01-TheField\\02-Python\\02-PythonAdvanced\\04-FileHandling\\data\\lequipe-du sport en continu._files\\ads-cch-20181026165210.js\n",
      "c:\\Users\\Ezgi Tandoğan\\Desktop\\LGG-Thomas4-Ezgi\\01-TheField\\02-Python\\02-PythonAdvanced\\04-FileHandling\\data\\lequipe-du sport en continu._files\\f(10).txt\n",
      "c:\\Users\\Ezgi Tandoğan\\Desktop\\LGG-Thomas4-Ezgi\\01-TheField\\02-Python\\02-PythonAdvanced\\04-FileHandling\\data\\lequipe-du sport en continu._files\\f(2).txt\n",
      "c:\\Users\\Ezgi Tandoğan\\Desktop\\LGG-Thomas4-Ezgi\\01-TheField\\02-Python\\02-PythonAdvanced\\04-FileHandling\\data\\lequipe-du sport en continu._files\\f(3).txt\n",
      "c:\\Users\\Ezgi Tandoğan\\Desktop\\LGG-Thomas4-Ezgi\\01-TheField\\02-Python\\02-PythonAdvanced\\04-FileHandling\\data\\lequipe-du sport en continu._files\\f(4).txt\n",
      "c:\\Users\\Ezgi Tandoğan\\Desktop\\LGG-Thomas4-Ezgi\\01-TheField\\02-Python\\02-PythonAdvanced\\04-FileHandling\\data\\lequipe-du sport en continu._files\\f(5).txt\n",
      "c:\\Users\\Ezgi Tandoğan\\Desktop\\LGG-Thomas4-Ezgi\\01-TheField\\02-Python\\02-PythonAdvanced\\04-FileHandling\\data\\lequipe-du sport en continu._files\\f(6).txt\n",
      "c:\\Users\\Ezgi Tandoğan\\Desktop\\LGG-Thomas4-Ezgi\\01-TheField\\02-Python\\02-PythonAdvanced\\04-FileHandling\\data\\lequipe-du sport en continu._files\\f(7).txt\n",
      "c:\\Users\\Ezgi Tandoğan\\Desktop\\LGG-Thomas4-Ezgi\\01-TheField\\02-Python\\02-PythonAdvanced\\04-FileHandling\\data\\lequipe-du sport en continu._files\\f(8).txt\n",
      "c:\\Users\\Ezgi Tandoğan\\Desktop\\LGG-Thomas4-Ezgi\\01-TheField\\02-Python\\02-PythonAdvanced\\04-FileHandling\\data\\lequipe-du sport en continu._files\\f(9).txt\n",
      "c:\\Users\\Ezgi Tandoğan\\Desktop\\LGG-Thomas4-Ezgi\\01-TheField\\02-Python\\02-PythonAdvanced\\04-FileHandling\\data\\lequipe-du sport en continu._files\\f.txt\n",
      "c:\\Users\\Ezgi Tandoğan\\Desktop\\LGG-Thomas4-Ezgi\\01-TheField\\02-Python\\02-PythonAdvanced\\04-FileHandling\\data\\lequipe-du sport en continu._files\\f21a9.jpg\n",
      "c:\\Users\\Ezgi Tandoğan\\Desktop\\LGG-Thomas4-Ezgi\\01-TheField\\02-Python\\02-PythonAdvanced\\04-FileHandling\\data\\lequipe-du sport en continu._files\\f3de7.jpg\n",
      "c:\\Users\\Ezgi Tandoğan\\Desktop\\LGG-Thomas4-Ezgi\\01-TheField\\02-Python\\02-PythonAdvanced\\04-FileHandling\\data\\lequipe-du sport en continu._files\\fb0a7.jpg\n",
      "c:\\Users\\Ezgi Tandoğan\\Desktop\\LGG-Thomas4-Ezgi\\01-TheField\\02-Python\\02-PythonAdvanced\\04-FileHandling\\data\\lequipe-du sport en continu._files\\fbevents.js\n",
      "c:\\Users\\Ezgi Tandoğan\\Desktop\\LGG-Thomas4-Ezgi\\01-TheField\\02-Python\\02-PythonAdvanced\\04-FileHandling\\data\\lequipe-du sport en continu._files\\gather_id\n",
      "c:\\Users\\Ezgi Tandoğan\\Desktop\\LGG-Thomas4-Ezgi\\01-TheField\\02-Python\\02-PythonAdvanced\\04-FileHandling\\data\\lequipe-du sport en continu._files\\gather_id(1)\n",
      "c:\\Users\\Ezgi Tandoğan\\Desktop\\LGG-Thomas4-Ezgi\\01-TheField\\02-Python\\02-PythonAdvanced\\04-FileHandling\\data\\lequipe-du sport en continu._files\\gen_204(1).gif\n",
      "c:\\Users\\Ezgi Tandoğan\\Desktop\\LGG-Thomas4-Ezgi\\01-TheField\\02-Python\\02-PythonAdvanced\\04-FileHandling\\data\\lequipe-du sport en continu._files\\gen_204.gif\n",
      "c:\\Users\\Ezgi Tandoğan\\Desktop\\LGG-Thomas4-Ezgi\\01-TheField\\02-Python\\02-PythonAdvanced\\04-FileHandling\\data\\lequipe-du sport en continu._files\\get\n",
      "c:\\Users\\Ezgi Tandoğan\\Desktop\\LGG-Thomas4-Ezgi\\01-TheField\\02-Python\\02-PythonAdvanced\\04-FileHandling\\data\\lequipe-du sport en continu._files\\get(1)\n",
      "c:\\Users\\Ezgi Tandoğan\\Desktop\\LGG-Thomas4-Ezgi\\01-TheField\\02-Python\\02-PythonAdvanced\\04-FileHandling\\data\\lequipe-du sport en continu._files\\get(2)\n",
      "c:\\Users\\Ezgi Tandoğan\\Desktop\\LGG-Thomas4-Ezgi\\01-TheField\\02-Python\\02-PythonAdvanced\\04-FileHandling\\data\\lequipe-du sport en continu._files\\getids\n",
      "c:\\Users\\Ezgi Tandoğan\\Desktop\\LGG-Thomas4-Ezgi\\01-TheField\\02-Python\\02-PythonAdvanced\\04-FileHandling\\data\\lequipe-du sport en continu._files\\gpt.js\n",
      "c:\\Users\\Ezgi Tandoğan\\Desktop\\LGG-Thomas4-Ezgi\\01-TheField\\02-Python\\02-PythonAdvanced\\04-FileHandling\\data\\lequipe-du sport en continu._files\\guid.html\n",
      "c:\\Users\\Ezgi Tandoğan\\Desktop\\LGG-Thomas4-Ezgi\\01-TheField\\02-Python\\02-PythonAdvanced\\04-FileHandling\\data\\lequipe-du sport en continu._files\\html_inpage_rendering_lib_200_243.js\n",
      "c:\\Users\\Ezgi Tandoğan\\Desktop\\LGG-Thomas4-Ezgi\\01-TheField\\02-Python\\02-PythonAdvanced\\04-FileHandling\\data\\lequipe-du sport en continu._files\\hudactive.html\n",
      "c:\\Users\\Ezgi Tandoğan\\Desktop\\LGG-Thomas4-Ezgi\\01-TheField\\02-Python\\02-PythonAdvanced\\04-FileHandling\\data\\lequipe-du sport en continu._files\\styles.css\n",
      "c:\\Users\\Ezgi Tandoğan\\Desktop\\LGG-Thomas4-Ezgi\\01-TheField\\02-Python\\02-PythonAdvanced\\04-FileHandling\\data\\lequipe-du sport en continu._files\\SVG-EFR(1).svg\n",
      "c:\\Users\\Ezgi Tandoğan\\Desktop\\LGG-Thomas4-Ezgi\\01-TheField\\02-Python\\02-PythonAdvanced\\04-FileHandling\\data\\lequipe-du sport en continu._files\\SVG-EFR.svg\n",
      "c:\\Users\\Ezgi Tandoğan\\Desktop\\LGG-Thomas4-Ezgi\\01-TheField\\02-Python\\02-PythonAdvanced\\04-FileHandling\\data\\lequipe-du sport en continu._files\\tag.min.js\n",
      "c:\\Users\\Ezgi Tandoğan\\Desktop\\LGG-Thomas4-Ezgi\\01-TheField\\02-Python\\02-PythonAdvanced\\04-FileHandling\\data\\lequipe-du sport en continu._files\\V6zvOIoD.js\n",
      "c:\\Users\\Ezgi Tandoğan\\Desktop\\LGG-Thomas4-Ezgi\\01-TheField\\02-Python\\02-PythonAdvanced\\04-FileHandling\\data\\lequipe-du sport en continu._files\\wamfactory_dpm.lequipe.min.js\n",
      "c:\\Users\\Ezgi Tandoğan\\Desktop\\LGG-Thomas4-Ezgi\\01-TheField\\02-Python\\02-PythonAdvanced\\04-FileHandling\\data\\lequipe-du sport en continu._files\\widget.css\n",
      "c:\\Users\\Ezgi Tandoğan\\Desktop\\LGG-Thomas4-Ezgi\\01-TheField\\02-Python\\02-PythonAdvanced\\04-FileHandling\\data\\lequipe-du sport en continu._files\\widget.js\n",
      "c:\\Users\\Ezgi Tandoğan\\Desktop\\LGG-Thomas4-Ezgi\\01-TheField\\02-Python\\02-PythonAdvanced\\04-FileHandling\\data\\lequipe-du sport en continu._files\\widgetGlobalEvent\n",
      "c:\\Users\\Ezgi Tandoğan\\Desktop\\LGG-Thomas4-Ezgi\\01-TheField\\02-Python\\02-PythonAdvanced\\04-FileHandling\\data\\lequipe-du sport en continu._files\\widgetGlobalEvent(1)\n",
      "c:\\Users\\Ezgi Tandoğan\\Desktop\\LGG-Thomas4-Ezgi\\01-TheField\\02-Python\\02-PythonAdvanced\\04-FileHandling\\data\\lequipe-du sport en continu._files\\widgetGlobalEvent(2)\n",
      "c:\\Users\\Ezgi Tandoğan\\Desktop\\LGG-Thomas4-Ezgi\\01-TheField\\02-Python\\02-PythonAdvanced\\04-FileHandling\\data\\lequipe-du sport en continu._files\\wonderpush-loader.min.js\n",
      "c:\\Users\\Ezgi Tandoğan\\Desktop\\LGG-Thomas4-Ezgi\\01-TheField\\02-Python\\02-PythonAdvanced\\04-FileHandling\\data\\lequipe-du sport en continu._files\\wonderpush.min.html\n",
      "c:\\Users\\Ezgi Tandoğan\\Desktop\\LGG-Thomas4-Ezgi\\01-TheField\\02-Python\\02-PythonAdvanced\\04-FileHandling\\data\\lequipe-du sport en continu._files\\wonderpush.min.js\n"
     ]
    }
   ],
   "source": [
    "folder_path = os.path.abspath(\"./\")\n",
    "print(folder_path)\n",
    "\n",
    "for path, dirs, files in os.walk(folder_path):\n",
    "    for filename in files:\n",
    "        print(os.path.join(path, filename))"
   ]
  },
  {
   "cell_type": "markdown",
   "metadata": {},
   "source": [
    "Create a list of all the **`.txt` files** from the `data/` directory"
   ]
  },
  {
   "cell_type": "code",
   "execution_count": 26,
   "metadata": {},
   "outputs": [
    {
     "name": "stdout",
     "output_type": "stream",
     "text": [
      "['data.txt', 'data_new.txt', 'mail.txt', 'VOEUX01.txt', 'VOEUX05.txt', 'VOEUX06.txt', 'VOEUX07.txt', 'VOEUX08.txt', 'VOEUX09.txt', 'VOEUX74.txt', 'VOEUX75.txt', 'VOEUX79.txt', 'VOEUX83.txt', 'VOEUX87.txt', 'VOEUX89.txt', 'VOEUX90.txt', 'VOEUX94.txt', 'write.txt']\n"
     ]
    }
   ],
   "source": [
    "directory=\"data/\"\n",
    "\n",
    "files=os.listdir(directory)\n",
    "\n",
    "txt_files = [file for file in files if file.endswith('.txt')]\n",
    "print(txt_files)"
   ]
  },
  {
   "cell_type": "markdown",
   "metadata": {},
   "source": [
    "Open all the files of the list, and add their content into a new file `final.txt` that you will create in `data/`."
   ]
  },
  {
   "cell_type": "code",
   "execution_count": 29,
   "metadata": {},
   "outputs": [
    {
     "name": "stdout",
     "output_type": "stream",
     "text": [
      "[['data.txt', 'data_new.txt', 'mail.txt', 'VOEUX01.txt', 'VOEUX05.txt', 'VOEUX06.txt', 'VOEUX07.txt', 'VOEUX08.txt', 'VOEUX09.txt', 'VOEUX74.txt', 'VOEUX75.txt', 'VOEUX79.txt', 'VOEUX83.txt', 'VOEUX87.txt', 'VOEUX89.txt', 'VOEUX90.txt', 'VOEUX94.txt', 'write.txt']]\n"
     ]
    }
   ],
   "source": [
    "final_txt = []\n",
    "final_txt.append(txt_files)\n",
    "print(final_txt)\n"
   ]
  }
 ],
 "metadata": {
  "kernelspec": {
   "display_name": "Python 3.10.5 64-bit",
   "language": "python",
   "name": "python3"
  },
  "language_info": {
   "codemirror_mode": {
    "name": "ipython",
    "version": 3
   },
   "file_extension": ".py",
   "mimetype": "text/x-python",
   "name": "python",
   "nbconvert_exporter": "python",
   "pygments_lexer": "ipython3",
   "version": "3.11.9"
  },
  "vscode": {
   "interpreter": {
    "hash": "aee8b7b246df8f9039afb4144a1f6fd8d2ca17a180786b69acc140d282b71a49"
   }
  }
 },
 "nbformat": 4,
 "nbformat_minor": 2
}
