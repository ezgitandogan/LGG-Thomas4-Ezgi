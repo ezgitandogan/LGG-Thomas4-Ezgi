{
 "cells": [
  {
   "cell_type": "markdown",
   "metadata": {},
   "source": [
    "# Drill - Decorators\n",
    "\n",
    "### Exercise 1\n",
    "Create a decorator that limits the execution of a function:\n",
    "\n",
    "When the function is executed too many times, an exception is thrown. The decorator must take one parameter, which is the number of times it is executed."
   ]
  },
  {
   "cell_type": "code",
   "execution_count": 11,
   "metadata": {},
   "outputs": [
    {
     "name": "stdout",
     "output_type": "stream",
     "text": [
      "function is working\n",
      "function is working\n",
      "function is working\n",
      "invalid.......\n"
     ]
    }
   ],
   "source": [
    "def repeat(num_time):\n",
    "\n",
    "    def my_decorator(func):\n",
    "\n",
    "        count=0\n",
    "        def wrapper(*args,**kwargs):\n",
    "            nonlocal count\n",
    "            if count>=num_time:\n",
    "                raise Exception(\"invalid.......\")\n",
    "            count +=1\n",
    "            return func(*args,**kwargs)\n",
    "        return wrapper\n",
    "            \n",
    "    return my_decorator\n",
    "\n",
    "\n",
    "@repeat(3)\n",
    "def example():\n",
    "    print(\"function is working\")\n",
    "\n",
    "\n",
    "for i in range(4):\n",
    "    try:\n",
    "        example()\n",
    "\n",
    "    except Exception as e:\n",
    "        print(e)\n",
    "\n",
    "\n"
   ]
  },
  {
   "cell_type": "markdown",
   "metadata": {},
   "source": [
    "### Exercise 2\n",
    "Create a decorator that controls what a function returns. The decorator must throw an exception if the function returns a string or an int."
   ]
  },
  {
   "cell_type": "code",
   "execution_count": 39,
   "metadata": {},
   "outputs": [
    {
     "name": "stdout",
     "output_type": "stream",
     "text": [
      "no string or int\n"
     ]
    },
    {
     "ename": "AttributeError",
     "evalue": "module 'time' has no attribute 'example_1'",
     "output_type": "error",
     "traceback": [
      "\u001b[1;31m---------------------------------------------------------------------------\u001b[0m",
      "\u001b[1;31mAttributeError\u001b[0m                            Traceback (most recent call last)",
      "Cell \u001b[1;32mIn[39], line 25\u001b[0m\n\u001b[0;32m     22\u001b[0m     \u001b[38;5;28mprint\u001b[39m(e)\n\u001b[0;32m     24\u001b[0m \u001b[38;5;28;01mimport\u001b[39;00m \u001b[38;5;21;01mtime\u001b[39;00m\n\u001b[1;32m---> 25\u001b[0m time\u001b[38;5;241m=\u001b[39m\u001b[43mtime\u001b[49m\u001b[38;5;241;43m.\u001b[39;49m\u001b[43mexample_1\u001b[49m()\n\u001b[0;32m     26\u001b[0m \u001b[38;5;28mprint\u001b[39m(example_1)\n",
      "\u001b[1;31mAttributeError\u001b[0m: module 'time' has no attribute 'example_1'"
     ]
    }
   ],
   "source": [
    "import time\n",
    "liste=[4,\"ezgi\",5,\"tandogan\",26,27,7,78,854,\"@\"]\n",
    "def list ():\n",
    "    def control(func):\n",
    "       def decorator(*args,**kwargs):\n",
    "        for item in liste:\n",
    "           if isinstance(item,(int,str)):\n",
    "\n",
    "            raise Exception(\"no string or int\")\n",
    "        \n",
    "        return func(*args,**kwargs)\n",
    "       return decorator\n",
    "    return control\n",
    "\n",
    "@list()\n",
    "def example_1():\n",
    "   print(\"function is running\")\n",
    "\n",
    "try:\n",
    "    example_1()\n",
    "except Exception as e:\n",
    "    print(e)\n",
    "\n",
    "\n",
    "\n"
   ]
  },
  {
   "cell_type": "markdown",
   "metadata": {},
   "source": [
    "### Exercise 3\n",
    "A decorator that displays the time it took for the function to run (basic)."
   ]
  },
  {
   "cell_type": "code",
   "execution_count": 51,
   "metadata": {},
   "outputs": [
    {
     "name": "stdout",
     "output_type": "stream",
     "text": [
      "2.001358985900879\n",
      "2.000748599995859\n"
     ]
    }
   ],
   "source": [
    "\n",
    "import time\n",
    "import timeit\n",
    "\n",
    "def calculate_time(func):\n",
    "\n",
    "    def wrapper(*args,**kwargs):\n",
    "        start_time=time.time()\n",
    "\n",
    "        result=func(*args,**kwargs)\n",
    "        end_time=time.time()\n",
    "        execution_time=end_time-start_time\n",
    "        print(execution_time)\n",
    "        return result\n",
    "    return wrapper\n",
    "\n",
    "@calculate_time\n",
    "def calculate_times():\n",
    "   time.sleep(2)\n",
    "calculate_times()\n",
    "\n",
    "\n",
    "\n",
    "\n",
    "\n",
    "\n",
    "def list():\n",
    "    time.sleep(2)\n",
    "\n",
    "execution_time=timeit.timeit(list,number=1)\n",
    "print(execution_time)\n"
   ]
  }
 ],
 "metadata": {
  "kernelspec": {
   "display_name": "Python 3",
   "language": "python",
   "name": "python3"
  },
  "language_info": {
   "codemirror_mode": {
    "name": "ipython",
    "version": 3
   },
   "file_extension": ".py",
   "mimetype": "text/x-python",
   "name": "python",
   "nbconvert_exporter": "python",
   "pygments_lexer": "ipython3",
   "version": "3.11.9"
  }
 },
 "nbformat": 4,
 "nbformat_minor": 2
}
