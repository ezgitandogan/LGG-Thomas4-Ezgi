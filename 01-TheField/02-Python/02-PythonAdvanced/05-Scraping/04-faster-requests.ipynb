{
 "cells": [
  {
   "cell_type": "markdown",
   "metadata": {},
   "source": [
    "# Make your requests faster\n",
    "\n",
    "When you start scraping web-pages or requesting APIs, you will be facing a problem when doing a lot of requests: this is really slow!\n",
    "\n",
    "It's because python is slow! You could say, well it should not be. Let's see how we can speed things up!\n",
    "\n",
    "## Measure performances\n",
    "\n",
    "In this notebook we will need to track how much time some code is taking to execute.\n",
    "To make things easier, we will create a simple decorator that will print the number of micro-seconds a function takes to execute.\n",
    "\n",
    "A good opportonity to practice decorators in a practical example!\n",
    "\n",
    "*Note that you need python3.3 or higher.*"
   ]
  },
  {
   "cell_type": "code",
   "execution_count": 1,
   "metadata": {},
   "outputs": [
    {
     "name": "stdout",
     "output_type": "stream",
     "text": [
      "example took 2.0 sec\n"
     ]
    }
   ],
   "source": [
    "import time\n",
    "\n",
    "def print_timing(func):\n",
    "    '''Create a timing decorator function use @print_timing just above the function you want to time.'''\n",
    "\n",
    "    def wrapper(*arg):\n",
    "        start = time.perf_counter()\n",
    "        \n",
    "        # Run the function decorated\n",
    "        result = func(*arg)\n",
    "\n",
    "        end = time.perf_counter()\n",
    "        execution_time = round((end - start), 2)\n",
    "        print(f'{func.__name__} took {execution_time} sec')\n",
    "        return result\n",
    "\n",
    "    return wrapper\n",
    "\n",
    "\n",
    "@print_timing\n",
    "def example():\n",
    "    time.sleep(2)\n",
    "\n",
    "\n",
    "example()"
   ]
  },
  {
   "cell_type": "markdown",
   "metadata": {},
   "source": [
    "## The API\n",
    "\n",
    "For this example, we will use the [quotable.io](https://api.quotable.io) API. It's an online API you can use to generate random quote.\n",
    "\n",
    "But feel free to replace `api_url` value with any API you'd like."
   ]
  },
  {
   "cell_type": "code",
   "execution_count": 2,
   "metadata": {},
   "outputs": [],
   "source": [
    "api_url = \"https://api.quotable.io/random\""
   ]
  },
  {
   "cell_type": "markdown",
   "metadata": {},
   "source": [
    "## The \"classic\" way\n",
    "\n",
    "If you start playing with requests, your should probably have something like this:"
   ]
  },
  {
   "cell_type": "code",
   "execution_count": 3,
   "metadata": {},
   "outputs": [
    {
     "name": "stdout",
     "output_type": "stream",
     "text": [
      "Technology frightens me to death. It's designed by engineers to impress other engineers. And they always come with instruction booklets that are written by engineers for other engineers — which is why almost no technology ever works.\n",
      "A hero is no braver than an ordinary man, but he is braver five minutes longer.\n",
      "A really great talent finds its happiness in execution.\n",
      "Maxim for life: You get treated in life the way you teach people to treat you.\n",
      "Ignorant men raise questions that wise men answered a thousand years ago.\n",
      "The more you like yourself, the less you are like anyone else, which makes you unique.\n",
      "I have always thought the actions of men the best interpreters of their thoughts.\n",
      "Life is so constructed that an event does not, cannot, will not, match the expectation.\n",
      "Two persons cannot long be friends if they cannot forgive each other's little failings.\n",
      "I know but one freedom and that is the freedom of the mind.\n",
      "You can always count on Americans to do the right thing - after they've tried everything else.\n",
      "Before we acquire great power, we must acquire wisdom to use it well.\n",
      "Friendship... is not something you learn in school. But if you haven't learned the meaning of friendship, you really haven't learned anything.\n",
      "Baseball is the only field of endeavor where a man can succeed three times out of ten and be considered a good performer.\n",
      "Wisdom is the right use of knowledge. To know is not to be wise. Many men know a great deal and are all the greater fools for it. There is no fool so great a fool as a knowing fool. But to know how to use knowledge is to have wisdom.\n",
      "The exercise of an extraordinary gift is the supremist pleasure in life.\n",
      "Every day is a new opportunity. You can build on yesterday's success or put its failures behind and start over again. That's the way life is, with a new game every day, and that's the way baseball is.\n",
      "Our kindness may be the most persuasive argument for that which we believe.\n",
      "Genuine love should first be directed at oneself; if we do not love ourselves, how can we love others?\n",
      "All that I am, or hope to be, I owe to my angel mother.\n",
      "Never, never, never give up.\n",
      "It is not in the stars to hold our destiny but in ourselves.\n",
      "I don't believe you have to be better than everybody else. I believe you have to be better than you ever thought you could be.\n",
      "Be kind whenever possible. It is always possible.\n",
      "The things that one most wants to do are the things that are probably most worth doing.\n",
      "The power of intuitive understanding will protect you from harm until the end of your days.\n",
      "Gratitude is not only the greatest of virtues, but the parent of all the others.\n",
      "I am not bothered by the fact that I am unknown. I am bothered when I do not know others.\n",
      "If you want to succeed you should strike out on new paths, rather than travel the worn paths of accepted success.\n",
      "There is some self-interest behind every friendship. There is no friendship without self-interests. This is a bitter truth.\n",
      "There is only one way to happiness and that is to cease worrying about things which are beyond the power of our will.\n",
      "You're never a loser until you quit trying.\n",
      "It is only when the mind and character slumber that the dress can be seen.\n",
      "All men have a sweetness in their life. That is what helps them go on. It is towards that they turn when they feel too worn out.\n",
      "That's the risk you take if you change: that people you've been involved with won't like the new you. But other people who do will come along.\n",
      "Believe in yourself! Have faith in your abilities! Without a humble but reasonable confidence in your own powers you cannot be successful or happy.\n",
      "Knowledge has three degrees: opinion, science, illumination. The means or instrument of the first is sense; of the second, dialectic; of the third, intuition.\n",
      "He who lives in harmony with himself lives in harmony with the universe.\n",
      "If you live to be a hundred, I want to live to be a hundred minus one day, so I never have to live without you.\n",
      "Give me six hours to chop down a tree and I will spend the first four sharpening the axe.\n",
      "If you want your life to be more rewarding, you have to change the way you think.\n",
      "Never apologize for showing feeling. When you do so, you apologize for truth.\n",
      "Minds are like parachutes. They only function when open.\n",
      "A good head and a good heart are always a formidable combination.\n",
      "If it turns out that there is a God, I don't think that he's evil. But the worst that you can say about him is that basically he's an underachiever.\n",
      "Great ideas often receive violent opposition from mediocre minds.\n",
      "He that never changes his opinions, never corrects his mistakes, and will never be wiser on the morrow than he is today.\n",
      "Tennis is a perfect combination of violent action taking place in an atmosphere of total tranquillity.\n",
      "It's just a job. Grass grows, birds fly, waves pound the sand. I beat people up.\n",
      "Reality is merely an illusion, albeit a very persistent one.\n",
      "basic_loop_request took 41.35 sec\n"
     ]
    }
   ],
   "source": [
    "import requests\n",
    "\n",
    "\n",
    "def basic_request(url: str):\n",
    "    response = requests.get(url)\n",
    "    response_json = response.json()\n",
    "    print(response_json[\"content\"])\n",
    "\n",
    "\n",
    "@print_timing\n",
    "def basic_loop_request(url: str):\n",
    "    # Query 50 times the API\n",
    "    for _ in range(50):\n",
    "        basic_request(url)\n",
    "\n",
    "\n",
    "basic_loop_request(api_url)"
   ]
  },
  {
   "cell_type": "markdown",
   "metadata": {},
   "source": [
    "### Results\n",
    "\n",
    "On my machine it took **17.06 sec for 50 requests**. \n",
    "\n",
    "Pretty slow right? But why is that?\n",
    "\n",
    "Each time you make a request, your computer needs to create a new \"session\", format your request, send it and wait to receive the response before doing it again with the next request."
   ]
  },
  {
   "cell_type": "markdown",
   "metadata": {},
   "source": [
    "## The \"session\" way\n",
    "\n",
    "To speed this, we can use a **\"session\"** that will be share by all the requests.\n",
    "\n",
    "You can picture it as a postman that knows you already, so he knows which bell to ring, where is the mailbox,... Instead of having to search for those each time."
   ]
  },
  {
   "cell_type": "code",
   "execution_count": 4,
   "metadata": {},
   "outputs": [
    {
     "name": "stdout",
     "output_type": "stream",
     "text": [
      "In the business world, the rearview mirror is always clearer than the windshield.\n",
      "Effort only fully releases its reward after a person refuses to quit.\n",
      "There are two kinds of failures: those who thought and never did, and those who did and never thought.\n",
      "What the caterpillar calls the end of the world, the master calls a butterfly.\n",
      "Whenever you have eliminated the impossible, whatever remains, however improbable, must be the truth.\n",
      "Nothing could be worse than the fear that one had given up too soon and left one unexpended effort that might have saved the world.\n",
      "Ideals are an imaginative understanding of that which is desirable in that which is possible.\n",
      "The ego is nothing other than the focus of conscious attention.\n",
      "In action a great heart is the chief qualification. In work, a great head.\n",
      "Each man has his own vocation; his talent is his call. There is one direction in which all space is open to him.\n",
      "Thought is the blossom; language the bud; action the fruit behind it.\n",
      "You really can change the world if you care enough.\n",
      "It takes courage to grow up and become who you really are.\n",
      "Always be smarter than the people who hire you.\n",
      "The moment one gives close attention to anything, even a blade of grass, it becomes a mysterious, awesome, indescribably magnificent world in itself.\n",
      "Knowledge is of no value unless you put it into practice.\n",
      "Notice that the stiffest tree is most easily cracked, while the bamboo or willow survives by bending with the wind.\n",
      "Wisdom is always an overmatch for strength.\n",
      "Obstacles are those frightful things you see when you take your eyes off your goal.\n",
      "Time stays long enough for anyone who will use it.\n",
      "Do not waste yourself in rejection, nor bark against the bad, but chant the beauty of the good.\n",
      "But I'll tell you what hermits realize. If you go off into a far, far forest and get very quiet, you'll come to understand that you're connected with everything.\n",
      "Never apologize for showing feelings. When you do so, you apologize for the truth.\n",
      "There is only one success: to be able to spend your life in your own way.\n",
      "The best argument against democracy is a five-minute conversation with the average voter.\n",
      "Face your deficiencies and acknowledge them; but do not let them master you. Let them teach you patience, sweetness, insight.\n",
      "Were here for a reason. I believe a bit of the reason is to throw little torches out to lead people through the dark.\n",
      "Once we accept our limits, we go beyond them.\n",
      "All that we see or seem is but a dream within a dream.\n",
      "To be aware of a single shortcoming in oneself is more useful than to be aware of a thousand in someone else.\n",
      "The most technologically efficient machine that man has ever invented is the book.\n",
      "The philosophy of the school room in one generation will be the philosophy of government in the next.\n",
      "Look up at the stars and not down at your feet. Try to make sense of what you see, and wonder about what makes the universe exist. Be curious.\n",
      "One's life has value so long as one attributes value to the life of others, by means of love, friendship, indignation and compassion.\n",
      "Think like a man of action; act like a man of thought.\n",
      "Remember that sometimes not getting what you want is a wonderful stroke of luck.\n",
      "A failure is a man who has blundered but is not capable of cashing in on the experience.\n",
      "Technology frightens me to death. It's designed by engineers to impress other engineers. And they always come with instruction booklets that are written by engineers for other engineers — which is why almost no technology ever works.\n",
      "Quality means doing it right when no one is looking.\n",
      "Friends are the siblings God never gave us.\n",
      "To be great is to be misunderstood.\n",
      "No man has a good enough memory to be a successful liar.\n",
      "Our shared values define us more than our differences. And acknowledging those shared values can see us through our challenges today if we have the wisdom to trust in them again.\n",
      "By three methods we may learn wisdom: First, by reflection, which is noblest; Second, by imitation, which is easiest; and third by experience, which is the bitterest.\n",
      "Whoever is happy will make others happy, too.\n",
      "Ideas are the beginning points of all fortunes.\n",
      "Criticism is something you can easily avoid by saying nothing, doing nothing, and being nothing.\n",
      "Good judgment comes from experience, and a lot of that comes from bad judgment.\n",
      "To succeed, we must first believe that we can.\n",
      "Everyone has been made for some particular work, and the desire for that work has been put in every heart.\n",
      "session_loop_request took 6.64 sec\n"
     ]
    }
   ],
   "source": [
    "from requests import Session\n",
    "\n",
    "\n",
    "def session_request(url: str, session: Session):\n",
    "    # Instead of using request.get, we use our session\n",
    "    response = session.get(url)\n",
    "    response_json = response.json()\n",
    "    print(response_json[\"content\"])\n",
    "\n",
    "\n",
    "@print_timing\n",
    "def session_loop_request(url: str):\n",
    "    # Create shared session for all of your requests\n",
    "    with Session() as session:\n",
    "        # Query 50 times the API\n",
    "        for _ in range(50):\n",
    "            session_request(url, session)\n",
    "\n",
    "\n",
    "session_loop_request(api_url)"
   ]
  },
  {
   "cell_type": "markdown",
   "metadata": {},
   "source": [
    "### Results\n",
    "\n",
    "It took me **5.99 sec for 50 requests**. That's better!\n",
    "\n",
    "And as you can see, I didn't change that much in the code."
   ]
  },
  {
   "cell_type": "markdown",
   "metadata": {},
   "source": [
    "## The \"Async\" way\n",
    "\n",
    "If you need even more performances, you will need to use [AsyncIo](https://docs.python.org/3/library/asyncio.html).\n",
    "\n",
    "This is a library to allow you to run asynchronous code.\n",
    "\n",
    "Why is that more efficiant? Well, when you send a request you need to wait for the response. And during the waiting time, our computer does nothing.\n",
    "If you count all the time the computer is just \"waiting\" on 50 or more requests, you will be surprised to see that most of the computing time is just waiting for the server to respond.\n",
    "\n",
    "[AsyncIo](https://docs.python.org/3/library/asyncio.html) allow you to bypass that.\n",
    "\n",
    "But as always, it has a cost: complexity.\n",
    "\n",
    "Making your code async will complixify the code a lot and make the debugging not a pleasant experience. Also, you will go so fast that you could be banned by the server.\n",
    "\n",
    "My advice? Use it only if you need it.\n",
    "\n",
    "I will show you a simple example but you want to understand it better, I really advice you **[this video](https://www.youtube.com/watch?v=qAh5dDODJ5k)**!\n",
    "\n",
    "### Requirements\n",
    "In order to simplify a bit the code, I will use [httpx](https://www.python-httpx.org/) a python library that is working the same way as the `requests` module but with few helpers for async."
   ]
  },
  {
   "cell_type": "code",
   "execution_count": 42,
   "metadata": {},
   "outputs": [
    {
     "name": "stdout",
     "output_type": "stream",
     "text": [
      "Requirement already satisfied: httpx in /Library/Frameworks/Python.framework/Versions/3.8/lib/python3.8/site-packages (0.23.0)\n",
      "Requirement already satisfied: sniffio in /Library/Frameworks/Python.framework/Versions/3.8/lib/python3.8/site-packages (from httpx) (1.2.0)\n",
      "Requirement already satisfied: certifi in /Library/Frameworks/Python.framework/Versions/3.8/lib/python3.8/site-packages (from httpx) (2021.10.8)\n",
      "Requirement already satisfied: rfc3986[idna2008]<2,>=1.3 in /Library/Frameworks/Python.framework/Versions/3.8/lib/python3.8/site-packages (from httpx) (1.5.0)\n",
      "Requirement already satisfied: httpcore<0.16.0,>=0.15.0 in /Library/Frameworks/Python.framework/Versions/3.8/lib/python3.8/site-packages (from httpx) (0.15.0)\n",
      "Requirement already satisfied: h11<0.13,>=0.11 in /Library/Frameworks/Python.framework/Versions/3.8/lib/python3.8/site-packages (from httpcore<0.16.0,>=0.15.0->httpx) (0.12.0)\n",
      "Requirement already satisfied: anyio==3.* in /Library/Frameworks/Python.framework/Versions/3.8/lib/python3.8/site-packages (from httpcore<0.16.0,>=0.15.0->httpx) (3.6.1)\n",
      "Requirement already satisfied: idna>=2.8 in /Library/Frameworks/Python.framework/Versions/3.8/lib/python3.8/site-packages (from anyio==3.*->httpcore<0.16.0,>=0.15.0->httpx) (2.9)\n"
     ]
    }
   ],
   "source": [
    "!pip install httpx"
   ]
  },
  {
   "cell_type": "markdown",
   "metadata": {},
   "source": [
    "### Warning!\n",
    "This code won't work in jupyter notebook, there are subtilities for async in jupyter notebook. See [this thread](https://stackoverflow.com/questions/47518874/how-do-i-run-python-asyncio-code-in-a-jupyter-notebook) for more informations.\n",
    "\n",
    "To make it simpler, I will put this code in a .py file and run it in command line:"
   ]
  },
  {
   "cell_type": "markdown",
   "metadata": {},
   "source": [
    "```python\n",
    "from httpx import AsyncClient\n",
    "import asyncio\n",
    "import time\n",
    "\n",
    "\n",
    "api_url = \"https://api.quotable.io/random\"\n",
    "\n",
    "\n",
    "async def session_request_async(url: str, session: AsyncClient):\n",
    "    # Instead of using request.get, we use our session\n",
    "    response = await session.get(url)\n",
    "    response_json = response.json()\n",
    "    print(response_json[\"content\"])\n",
    "    return response_json\n",
    "\n",
    "\n",
    "async def session_loop_request_async(url: str):\n",
    "    # Create shared session for all of your requests\n",
    "    async with AsyncClient() as session:\n",
    "        # Create a list of empty tasks\n",
    "        tasks = []\n",
    "        # Query 50 times the API\n",
    "        for _ in range(50):\n",
    "            # Add a request to tasks\n",
    "            tasks.append(\n",
    "                asyncio.create_task(\n",
    "                    session_request_async(url, session)        \n",
    "                )\n",
    "            )\n",
    "        # Now that all the tasks are registred, run them\n",
    "        responses = await asyncio.gather(*tasks)\n",
    "            \n",
    "            \n",
    "\n",
    "\n",
    "start = time.perf_counter()\n",
    "\n",
    "# We need to use asyncio.run to run the async function\n",
    "asyncio.run(session_loop_request_async(api_url))\n",
    "\n",
    "end = time.perf_counter()\n",
    "execution_time = round((end - start), 2)\n",
    "print(f'session_loop_request_async took {execution_time} sec')\n",
    "```"
   ]
  },
  {
   "cell_type": "code",
   "execution_count": 5,
   "metadata": {},
   "outputs": [
    {
     "name": "stdout",
     "output_type": "stream",
     "text": [
      "It is impossible to love and to be wise.\n",
      "Learning is the beginning of wealth. Learning is the beginning of health. Learning is the beginning of spirituality. Searching and learning is where the miracle process all begins.\n",
      "Happiness does not come from doing easy work but from the afterglow of satisfaction that comes after the achievement of a difficult task that demanded our best.\n",
      "The thing always happens that you really believe in; and the belief in a thing makes it happen.\n",
      "Wisdom begins at the end.\n",
      "To succeed, we must first believe that we can.\n",
      "Wisdom begins in wonder.\n",
      "Never bend your head. Always hold it high. Look the world right in the eye.\n",
      "A good hockey player plays where the puck is. A great hockey player plays where the puck is going to be.\n",
      "True friendship multiplies the good in life and divides its evils. Strive to have friends, for life without friends is like life on a desert island... to find one real friend in a lifetime is good fortune; to keep him is a blessing.\n",
      "When the solution is simple, God is answering.\n",
      "Love is the master key that opens the gates of happiness.\n",
      "Knowledge is knowing that a tomato is a fruit. Wisdom is knowing not to put it in a fruit salad.\n",
      "Don't settle for a relationship that won't let you be yourself.\n",
      "Wisdom is nothing but a preparation of the soul, a capacity, a secret art of thinking, feeling and breathing thoughts of unity at every moment of life.\n",
      "Not all those who wander are lost.\n",
      "Quick decisions are unsafe decisions.\n",
      "Where all think alike, no one thinks very much.\n",
      "I am always doing that which I cannot do, in order that I may learn how to do it.\n",
      "Before God we are all equally wise - and equally foolish.\n",
      "Keep yourself to the sunshine and you cannot see the shadow.\n",
      "It always seems impossible until it's done.\n",
      "Let me tell you the secret that has led me to my goal: my strength lies solely in my tenacity.\n",
      "Patience is the companion of wisdom.\n",
      "The road of excess leads to the palace of wisdom.\n",
      "All difficult things have their origin in that which is easy, and great things in that which is small.\n",
      "If you were to offer a thirsty man all wisdom, you would not please him more than if you gave him a drink.\n",
      "It is impossible to escape the impression that people commonly use false standards of measurement — that they seek power, success and wealth for themselves and admire them in others, and that they underestimate what is of true value in life.\n",
      "There is a difference between happiness and wisdom: he that thinks himself the happiest man is really so; but he that thinks himself the wisest is generally the greatest fool.\n",
      "If you want your life to be more rewarding, you have to change the way you think.\n",
      "We must embrace pain and burn it as fuel for our journey.\n",
      "Focusing your life solely on making a buck shows a poverty of ambition. It asks too little of yourself. And it will leave you unfulfilled.\n",
      "Love demands infinitely less than friendship.\n",
      "Nothing in life is so exhilarating as to be shot at without result.\n",
      "I will give you a definition of a proud man: he is a man who has neither vanity nor wisdom one filled with hatreds cannot be vain, neither can he be wise.\n",
      "The greatest good you can do for another is not just share your riches but reveal to them their own.\n",
      "What you get by achieving your goals is not as important as what you become by achieving your goals.\n",
      "Trouble is only opportunity in work clothes.\n",
      "The world has the habit of making room for the man whose actions show that he knows where he is going.\n",
      "He can who thinks he can, and he can't who thinks he can't. This is an inexorable, indisputable law.\n",
      "A life spent making mistakes is not only more honorable, but more useful than a life spent doing nothing.\n",
      "Each friend represents a world in us, a world not born until they arrive, and it is only by this meeting that a new world is born.\n",
      "You've got to go out on a limb sometimes because that's where the fruit is.\n",
      "Just as much as we see in others, we have in ourselves.\n",
      "It seemed the world was divided into good and bad people. The good ones slept better... while the bad ones seemed to enjoy the waking hours much more.\n",
      "It's easier to resist at the beginning than at the end.\n",
      "Stay committed to your decisions, but stay flexible in your approach.\n",
      "All fixed set patterns are incapable of adaptability or pliability. The truth is outside of all fixed patterns.\n",
      "The mark of your ignorance is the depth of your belief in injustice and tragedy. What the caterpillar calls the end of the world, the Master calls the butterfly.\n",
      "If you seek truth, you will not seek victory by dishonorable means, and if you find truth you will become invincible.\n",
      "session_loop_request_async took 1.16 sec\n"
     ]
    }
   ],
   "source": [
    "!python3 ./assets/async_requests.py"
   ]
  },
  {
   "cell_type": "markdown",
   "metadata": {},
   "source": [
    "### Results\n",
    "It only took me **0.8 sec for 50 requests**! That's impressive.\n",
    "\n",
    "But as you can see, it is harder to write, structure and debug. So make sure you **really** need it if you consider using this method."
   ]
  },
  {
   "cell_type": "markdown",
   "metadata": {},
   "source": [
    "## Summary\n",
    "\n",
    "If we gather all our results:\n",
    "\n",
    "| Method                     | Execution time for 50 requests |\n",
    "|----------------------------|--------------------------------|\n",
    "| `requests.get` loop        | 17.06 sec                  |\n",
    "| `requests` with `Session`  | 5.99 sec                   |\n",
    "| `httpx` with `AsyncClient` | 0.8 sec                   |"
   ]
  },
  {
   "cell_type": "markdown",
   "metadata": {},
   "source": []
  }
 ],
 "metadata": {
  "kernelspec": {
   "display_name": "Python 3.10.5 64-bit",
   "language": "python",
   "name": "python3"
  },
  "language_info": {
   "codemirror_mode": {
    "name": "ipython",
    "version": 3
   },
   "file_extension": ".py",
   "mimetype": "text/x-python",
   "name": "python",
   "nbconvert_exporter": "python",
   "pygments_lexer": "ipython3",
   "version": "3.11.9"
  },
  "orig_nbformat": 4,
  "vscode": {
   "interpreter": {
    "hash": "b460384b52104c1e5b9cf54bee46a255d22b2bef338f75ac4ad5d48196028d3c"
   }
  }
 },
 "nbformat": 4,
 "nbformat_minor": 2
}
