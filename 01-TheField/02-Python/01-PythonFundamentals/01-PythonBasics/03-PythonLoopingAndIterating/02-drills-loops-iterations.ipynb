{
 "cells": [
  {
   "cell_type": "markdown",
   "metadata": {},
   "source": [
    "# Drill loops and iterations"
   ]
  },
  {
   "cell_type": "markdown",
   "metadata": {},
   "source": [
    "### 1. Display all students in the `students` list in alphabetical order."
   ]
  },
  {
   "cell_type": "code",
   "execution_count": 1,
   "metadata": {},
   "outputs": [
    {
     "name": "stdout",
     "output_type": "stream",
     "text": [
      "['Adrien', 'Axel', 'Baptiste', 'Caroline', 'Joe', 'Mathieu', 'Merouane', 'Nathan', 'Raphaël', 'Sophie']\n"
     ]
    }
   ],
   "source": [
    "students = [\n",
    "    \"Merouane\",\n",
    "    \"Baptiste\",\n",
    "    \"Caroline\",\n",
    "    \"Joe\",\n",
    "    \"Sophie\",\n",
    "    \"Nathan\",\n",
    "    \"Raphaël\",\n",
    "    \"Axel\",\n",
    "    \"Mathieu\",\n",
    "    \"Adrien\",\n",
    "]\n",
    "print(sorted(students))"
   ]
  },
  {
   "cell_type": "markdown",
   "metadata": {},
   "source": [
    "### 2. Display only the names which begin with the letter \"M\"."
   ]
  },
  {
   "cell_type": "code",
   "execution_count": 4,
   "metadata": {},
   "outputs": [
    {
     "name": "stdout",
     "output_type": "stream",
     "text": [
      "['Merouane', 'Mathieu']\n"
     ]
    }
   ],
   "source": [
    "starting_m = [word for word in students if word.startswith(\"M\")]\n",
    "print(starting_m)"
   ]
  },
  {
   "cell_type": "markdown",
   "metadata": {},
   "source": [
    "### 3. Display integers from 0 to 15 not included, using a `for` loop and the `range()` instruction."
   ]
  },
  {
   "cell_type": "code",
   "execution_count": 5,
   "metadata": {},
   "outputs": [
    {
     "name": "stdout",
     "output_type": "stream",
     "text": [
      "0\n",
      "1\n",
      "2\n",
      "3\n",
      "4\n",
      "5\n",
      "6\n",
      "7\n",
      "8\n",
      "9\n",
      "10\n",
      "11\n",
      "12\n",
      "13\n",
      "14\n"
     ]
    }
   ],
   "source": [
    "for i in range(15):\n",
    "    print(i)"
   ]
  },
  {
   "cell_type": "markdown",
   "metadata": {},
   "source": [
    "### 4. Create a `for` loop that displays integers from 1 to 10 included, but use the `break` instruction to interrupt it at 5."
   ]
  },
  {
   "cell_type": "code",
   "execution_count": 12,
   "metadata": {},
   "outputs": [
    {
     "name": "stdout",
     "output_type": "stream",
     "text": [
      "0\n",
      "1\n",
      "2\n",
      "3\n",
      "4\n",
      "5\n"
     ]
    }
   ],
   "source": [
    "for x in range(10):\n",
    "    print(x)\n",
    "    if x==5:\n",
    "        break\n",
    "\n"
   ]
  },
  {
   "cell_type": "markdown",
   "metadata": {},
   "source": [
    "### 4. Create a `for` loop that displays integers from 1 to 10 included, but use the `continue` to modify its execution at 5."
   ]
  },
  {
   "cell_type": "code",
   "execution_count": 14,
   "metadata": {},
   "outputs": [
    {
     "name": "stdout",
     "output_type": "stream",
     "text": [
      "0\n",
      "1\n",
      "2\n",
      "3\n",
      "4\n",
      "6\n",
      "7\n",
      "8\n",
      "9\n"
     ]
    }
   ],
   "source": [
    "for x in range(10):\n",
    "    \n",
    "    if x==5:\n",
    "        continue\n",
    "    print(x)"
   ]
  },
  {
   "cell_type": "markdown",
   "metadata": {},
   "source": [
    "### 6. Follow the instructions :"
   ]
  },
  {
   "cell_type": "markdown",
   "metadata": {},
   "source": [
    "- **Sort and display the list.**\n",
    "    - Output expected: `[10, 17, 25, 38, 72]`\n",
    "- **Add item 12 to the list and display the list.**\n",
    "    - Output expected: `[17, 38, 10, 25, 72, 12]`\n",
    "- **Reverse and display the list.**\n",
    "    - Output expected: `[12, 72, 25, 10, 38, 17]`\n",
    "- **Display the index of element 17.**\n",
    "    - Output expected: `5`\n",
    "- **Remove item 38 and display the list.**\n",
    "    - Output expected: `[12, 72, 25, 10, 17]`\n",
    "- **Display the sub-list of the 2nd to 3rd element.**\n",
    "    - Output expected: `[72, 25]`\n",
    "- **Display the sub-list from the beginning to the 2nd element.**\n",
    "    - Output expected: `[12, 72]`\n",
    "- **Display the sub-list of the 3rd element at the end of the list.**\n",
    "    - Output expected: `[25, 10, 17]`\n",
    "- **Display the complete sub-list of the list.**\n",
    "    - Output expected: `[12, 72, 25, 10, 17]`\n",
    "- **Display the last element using a negative indication.**\n",
    "    - Output expected: `[17]`"
   ]
  },
  {
   "cell_type": "code",
   "execution_count": 47,
   "metadata": {},
   "outputs": [
    {
     "name": "stdout",
     "output_type": "stream",
     "text": [
      "[10, 17, 25, 38, 72]\n",
      "[17, 38, 10, 25, 72, 12]\n",
      "[12, 72, 25, 10, 38, 17]\n",
      "5\n",
      "[12, 72, 25, 10, 17]\n",
      "[72, 25]\n",
      "[12, 72]\n",
      "[25, 10, 17]\n",
      "[12, 72, 25, 10, 17]\n",
      "[17]\n"
     ]
    }
   ],
   "source": [
    "list_of_numbers = [17, 38, 10, 25, 72]\n",
    "print(sorted(list_of_numbers))\n",
    "\n",
    "list_of_numbers.append(12)\n",
    "print(list_of_numbers)\n",
    "\n",
    "list_of_numbers.reverse()\n",
    "print(list_of_numbers) \n",
    "\n",
    "index_17=list_of_numbers.index(17)\n",
    "print(index_17)\n",
    "\n",
    "list_of_numbers.remove(38)\n",
    "print(list_of_numbers)\n",
    "\n",
    "print(list_of_numbers[1:3])\n",
    "\n",
    "print(list_of_numbers[:2])\n",
    "\n",
    "print(list_of_numbers[2:])\n",
    "\n",
    "print(list_of_numbers[:])\n",
    "\n",
    "print(list_of_numbers[-1:])\n"
   ]
  },
  {
   "cell_type": "markdown",
   "metadata": {},
   "source": [
    "Note that some list methods do not return anything."
   ]
  },
  {
   "cell_type": "markdown",
   "metadata": {},
   "source": [
    "### 7. Write an algorithm that:\n",
    "1. Asks the user to enter a number.\n",
    "2. Make sure that your program displays all the numbers down to 0. For example, if the user enters the number 3, then your program will display something like this: `3,2,1,0`"
   ]
  },
  {
   "cell_type": "code",
   "execution_count": 49,
   "metadata": {},
   "outputs": [
    {
     "name": "stdout",
     "output_type": "stream",
     "text": [
      "4, 3, 2, 1, 0\n"
     ]
    }
   ],
   "source": [
    "\n",
    "\n",
    "num = int(input(\"Enter a number: \"))\n",
    "\n",
    "print(*range(num, -1, -1), sep=\", \")\n"
   ]
  },
  {
   "cell_type": "markdown",
   "metadata": {},
   "source": [
    "### 8.The price is right ! \n",
    "- Create a variable that will contain the number to be found. \n",
    "- Then create a function that will ask the user to find this price (asking for a number). \n",
    "- If the user enters a number that is too high, output the sentence: \"It's less.\". \n",
    "- If he enters a number that is too low, output the sentence: \"It's more.\". \n",
    "- If the user finds the right price, output the sentence: \"Well done, you won!\"."
   ]
  },
  {
   "cell_type": "code",
   "execution_count": 2,
   "metadata": {},
   "outputs": [
    {
     "name": "stdout",
     "output_type": "stream",
     "text": [
      "It's more.\n",
      "It's more.\n",
      "It's less.\n",
      "It's more.\n",
      "It's more.\n",
      "It's less.\n",
      "It's less.\n",
      "It's less.\n",
      "It's less.\n",
      "Well done, you won!\n",
      "88\n"
     ]
    }
   ],
   "source": [
    "import random\n",
    "\n",
    "target_price = random.randint(1, 100)\n",
    "\n",
    "\n",
    "def guess_price(target_price):\n",
    "    while True:\n",
    "        guess = int(input(\"Enter your guess: \"))\n",
    "        if guess > target_price:\n",
    "            print(\"It's less.\")\n",
    "        elif guess < target_price:\n",
    "            print(\"It's more.\")\n",
    "        else:\n",
    "            print(\"Well done, you won!\")\n",
    "            break\n",
    "\n",
    "guess_price(target_price)\n",
    "\n",
    "\n",
    "\n"
   ]
  },
  {
   "cell_type": "markdown",
   "metadata": {},
   "source": [
    "### 9. Display all students with the sentence \"NAME is an alumni. \""
   ]
  },
  {
   "cell_type": "code",
   "execution_count": null,
   "metadata": {},
   "outputs": [],
   "source": [
    "all_students = [\n",
    "    [\"David\", \"Justine\", \"Valentin\", \"Axel\", \"Redouane\"],\n",
    "    [\"Julie\", \"Stéphane\", \"Mostapha\", \"Claudiu\", \"Son\"],\n",
    "]\n",
    "\n",
    "for i in all_students\n"
   ]
  },
  {
   "cell_type": "markdown",
   "metadata": {},
   "source": [
    "**10. Display all elements. If the element is part of the first list, display - `\"ELEMENT_HERE is a backend language?\"` - and if the element is part of the second list, display - `\"ELEMENT_HERE is a frontend language?\"`** "
   ]
  },
  {
   "cell_type": "code",
   "execution_count": null,
   "metadata": {},
   "outputs": [],
   "source": [
    "languages = [[\"PHP\", \"Java\", \"C#\"], [\"HTML\", \"CSS\", \"Javascript\"]]"
   ]
  }
 ],
 "metadata": {
  "kernelspec": {
   "display_name": "Python 3.9.13 64-bit (microsoft store)",
   "language": "python",
   "name": "python3"
  },
  "language_info": {
   "codemirror_mode": {
    "name": "ipython",
    "version": 3
   },
   "file_extension": ".py",
   "mimetype": "text/x-python",
   "name": "python",
   "nbconvert_exporter": "python",
   "pygments_lexer": "ipython3",
   "version": "3.11.9"
  },
  "vscode": {
   "interpreter": {
    "hash": "5af58ead5434bcaec4ba320c097b4ab95f4d47b5cc097d838e053a401accc545"
   }
  }
 },
 "nbformat": 4,
 "nbformat_minor": 2
}
