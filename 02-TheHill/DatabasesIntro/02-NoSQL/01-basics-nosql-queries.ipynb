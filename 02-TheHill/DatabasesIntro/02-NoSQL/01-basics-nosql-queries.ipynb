{
 "cells": [
  {
   "cell_type": "markdown",
   "metadata": {},
   "source": [
    "# NoSQL: Basic queries on non-relational databases\n",
    "\n",
    "## NoSQL: Review\n",
    "\n",
    "A NoSQL database is designed to handle data that are not structured in tabular relations. The data can be stored in key-value pairs (like Python dictionaries), documents (JSON), or graphs.\n",
    "\n",
    "<img src=\"../assets/nosql_vs_sql.jpeg\"  width = 500 px></img>\n",
    "\n",
    "Unlike relational databases (SQL), NoSQL does not (necessarily) employ tables and rows. Also they are much more flexible since the structure of the entries is not predefined. Therefore you can add data without defining anything (even not the table itself).\n",
    "\n",
    "[This article](https://www.integrate.io/blog/the-sql-vs-nosql-difference/) gives a recap of the biggest differences between SQL and NoSQL database systems:\n",
    "|SQL|NoSQL|\n",
    "|---|---|\n",
    "|SQL databases are relational| NoSQL databases are non-relational. In NoSQL you cannot make relationships between tables (`JOIN`)|\n",
    "|SQL databases are table-based |NoSQL databases are document, key-value, graph, or wide-column stores.|\n",
    "|SQL databases use structured query language and have a predefined schema.| NoSQL databases have dynamic schemas for unstructured data.|\n",
    "|SQL databases are vertically scalable (by adding processing power)|NoSQL databases are horizontally scalable (by adding servers/machines).|\n",
    "|SQL databases are better for multi-row transactions|NoSQL is better for unstructured data like documents or JSON.|\n",
    "\n",
    "In the image, below you will find examples of popular SQL and NoSQL databases. \n",
    "\n",
    "<img src=\"../assets/popular_examples_nosql_sql.jpeg\" width =500px></img>\n",
    "\n",
    "In the next section, we'll cover an example using MongoDB. You will see that we can translate many of the basic SQL queries you know.\n",
    "\n",
    "## MongoDB\n",
    "\n",
    "<img src=\"https://upload.wikimedia.org/wikipedia/fr/thumb/4/45/MongoDB-Logo.svg/527px-MongoDB-Logo.svg.png\" />\n",
    "\n",
    "A lot of companies provide NoSQL architectures. One of the most popular is [MongoDB](https://www.mongodb.com/). A MongoDB database contains collections (tables) of documents (entries). The documents are stored in the JSON format which is very convenient to handle with Python!\n",
    "\n",
    "The syntax of the queries is based on JavaScript. They basically look like python dictionaries.\n",
    "\n",
    "Before diving in some exercises, you can have a look to [this quick intro](https://www.mongodb.com/docs/manual/tutorial/query-documents/) about MongoDB queries.\n",
    "\n",
    "### Creating the database\n",
    "\n",
    "We have created and filled a MongoDB database for you. You probably know already the database. It is the list of country leaders that you have used already in the Wikipedia project.\n",
    "\n",
    "You can set it up by deploying the Docker image we have pre-built:"
   ]
  },
  {
   "cell_type": "code",
   "execution_count": 1,
   "metadata": {},
   "outputs": [
    {
     "name": "stderr",
     "output_type": "stream",
     "text": [
      " Container mongodb  Running\n",
      " Container 02-nosql-mongo-seed-1  Created\n",
      " Container 02-nosql-mongo-seed-1  Starting\n",
      " Container 02-nosql-mongo-seed-1  Started\n"
     ]
    }
   ],
   "source": [
    "# You can run it from this notebook with:\n",
    "!docker-compose up -d\n",
    "\n",
    "# Or in your terminal with:\n",
    "# docker-compose up -d"
   ]
  },
  {
   "cell_type": "markdown",
   "metadata": {},
   "source": [
    "### Conneting to the database\n",
    "\n",
    "For using MongoDB through Python you will need to install the `pymongo` library."
   ]
  },
  {
   "cell_type": "code",
   "execution_count": 2,
   "metadata": {},
   "outputs": [
    {
     "data": {
      "text/plain": [
       "['leaders']"
      ]
     },
     "execution_count": 2,
     "metadata": {},
     "output_type": "execute_result"
    }
   ],
   "source": [
    "\n",
    "from pymongo import MongoClient\n",
    "\n",
    "# Creation of a MongoDB Client (by giving the host and the port)\n",
    "client = MongoClient(host=\"localhost\", port=27017)\n",
    "\n",
    "# Instantiation of the database\n",
    "db = client[\"becode\"]\n",
    "\n",
    "# Let's see which collections are in the database\n",
    "db.list_collection_names()"
   ]
  },
  {
   "cell_type": "markdown",
   "metadata": {},
   "source": [
    "### Basic Queries"
   ]
  },
  {
   "cell_type": "markdown",
   "metadata": {},
   "source": [
    "**1. Show the first leader of the `leaders` collection by using the `find_one` method**\n",
    "\n",
    "The corresponding `SQL` query would be:\n",
    "\n",
    "```sql\n",
    "SELECT * FROM leaders LIMIT 1;\n",
    "```"
   ]
  },
  {
   "cell_type": "code",
   "execution_count": 3,
   "metadata": {},
   "outputs": [
    {
     "data": {
      "text/plain": [
       "{'_id': ObjectId('66bf0ac5bc51122d9db63915'),\n",
       " 'id': 'Q7747',\n",
       " 'first_name': 'Vladimir',\n",
       " 'last_name': 'Putin',\n",
       " 'birth_date': '1952-10-07',\n",
       " 'death_date': None,\n",
       " 'place_of_birth': 'Saint Petersburg',\n",
       " 'wikipedia_url': 'https://ru.wikipedia.org/wiki/%D0%9F%D1%83%D1%82%D0%B8%D0%BD,_%D0%92%D0%BB%D0%B0%D0%B4%D0%B8%D0%BC%D0%B8%D1%80_%D0%92%D0%BB%D0%B0%D0%B4%D0%B8%D0%BC%D0%B8%D1%80%D0%BE%D0%B2%D0%B8%D1%87',\n",
       " 'start_mandate': '2000-05-07',\n",
       " 'end_mandate': '2008-05-07',\n",
       " 'country': 'ru'}"
      ]
     },
     "execution_count": 3,
     "metadata": {},
     "output_type": "execute_result"
    }
   ],
   "source": [
    "db[\"leaders\"].find_one()"
   ]
  },
  {
   "cell_type": "markdown",
   "metadata": {},
   "source": [
    "**2. Show the first leader of the collection whose country is Belgium**\n",
    "\n",
    "To that purpose we will use the query as first parameter of the `find_one` function. The query is formatted as a dictionary.\n",
    "\n",
    "In SQL it would be like adding a `WHERE` condition to the query:\n",
    "\n",
    "```sql\n",
    "SELECT * FROM leaders WHERE country = 'be' LIMIT 1;\n",
    "```"
   ]
  },
  {
   "cell_type": "code",
   "execution_count": 4,
   "metadata": {},
   "outputs": [
    {
     "data": {
      "text/plain": [
       "{'_id': ObjectId('66bf0ac5bc51122d9db6393f'),\n",
       " 'id': 'Q12978',\n",
       " 'first_name': 'Guy',\n",
       " 'last_name': 'Verhofstadt',\n",
       " 'birth_date': '1953-04-11',\n",
       " 'death_date': None,\n",
       " 'place_of_birth': 'Dendermonde',\n",
       " 'wikipedia_url': 'https://nl.wikipedia.org/wiki/Guy_Verhofstadt',\n",
       " 'start_mandate': '1999-07-12',\n",
       " 'end_mandate': '2008-03-20',\n",
       " 'country': 'be'}"
      ]
     },
     "execution_count": 4,
     "metadata": {},
     "output_type": "execute_result"
    }
   ],
   "source": [
    "db[\"leaders\"].find_one({\"country\": \"be\"})"
   ]
  },
  {
   "cell_type": "markdown",
   "metadata": {},
   "source": [
    "**3. Select some fields to display**\n",
    "\n",
    "Let's use the same query by displaying only the `first_name` and the `last_name` of the leader. It corresponds to a `SELECT` in SQL.\n",
    "\n",
    "We will use the [project](https://www.mongodb.com/docs/manual/tutorial/project-fields-from-query-results/) as the second parameter of the function. It is also formatted as a dictionary whose the key contains the targeted field and the value is `1` if we want the field to be displayed\n",
    "\n",
    "The corresponding SQL query would be:\n",
    "\n",
    "```sql\n",
    "SELECT first_name, last_name FROM leaders WHERE country = 'be' LIMIT 1;\n",
    "```"
   ]
  },
  {
   "cell_type": "code",
   "execution_count": 5,
   "metadata": {},
   "outputs": [
    {
     "data": {
      "text/plain": [
       "{'_id': ObjectId('66bf0ac5bc51122d9db6393f'),\n",
       " 'first_name': 'Guy',\n",
       " 'last_name': 'Verhofstadt'}"
      ]
     },
     "execution_count": 5,
     "metadata": {},
     "output_type": "execute_result"
    }
   ],
   "source": [
    "db[\"leaders\"].find_one({\"country\": \"be\"}, {\"first_name\": 1, \"last_name\": 1})"
   ]
  },
  {
   "cell_type": "markdown",
   "metadata": {},
   "source": [
    "We can also decide to not display a field. In that case we put `0` as value for the dictionary."
   ]
  },
  {
   "cell_type": "code",
   "execution_count": 6,
   "metadata": {},
   "outputs": [
    {
     "data": {
      "text/plain": [
       "{'_id': ObjectId('66bf0ac5bc51122d9db6393f'),\n",
       " 'first_name': 'Guy',\n",
       " 'last_name': 'Verhofstadt',\n",
       " 'birth_date': '1953-04-11',\n",
       " 'death_date': None,\n",
       " 'place_of_birth': 'Dendermonde',\n",
       " 'start_mandate': '1999-07-12',\n",
       " 'end_mandate': '2008-03-20',\n",
       " 'country': 'be'}"
      ]
     },
     "execution_count": 6,
     "metadata": {},
     "output_type": "execute_result"
    }
   ],
   "source": [
    "db[\"leaders\"].find_one({\"country\": \"be\"}, {\"wikipedia_url\": 0, \"id\": 0})"
   ]
  },
  {
   "cell_type": "markdown",
   "metadata": {},
   "source": [
    "**4. Find the distinct countries**\n",
    "\n",
    "The SQL equivalent:\n",
    "\n",
    "```sql\n",
    "SELECT DISTINCT country FROM leaders;\n",
    "```"
   ]
  },
  {
   "cell_type": "code",
   "execution_count": 7,
   "metadata": {},
   "outputs": [
    {
     "data": {
      "text/plain": [
       "['be', 'fr', 'ma', 'ru', 'us']"
      ]
     },
     "execution_count": 7,
     "metadata": {},
     "output_type": "execute_result"
    }
   ],
   "source": [
    "db[\"leaders\"].find().distinct(\"country\")"
   ]
  },
  {
   "cell_type": "markdown",
   "metadata": {},
   "source": [
    "**5. Find all the leaders who are still alive**\n",
    "\n",
    "We can assume that they have no `death_date`, isn't?"
   ]
  },
  {
   "cell_type": "code",
   "execution_count": 8,
   "metadata": {},
   "outputs": [
    {
     "data": {
      "text/plain": [
       "<pymongo.cursor.Cursor at 0x1a6cf1f8390>"
      ]
     },
     "execution_count": 8,
     "metadata": {},
     "output_type": "execute_result"
    }
   ],
   "source": [
    "db[\"leaders\"].find({\"death_date\": None}, {\"last_name\":1, \"first_name\":1, \"country\":1})"
   ]
  },
  {
   "cell_type": "markdown",
   "metadata": {},
   "source": [
    "As you see the `find` command returns a cursor. No worries we can process it by using a simple Python loop!"
   ]
  },
  {
   "cell_type": "code",
   "execution_count": 9,
   "metadata": {},
   "outputs": [
    {
     "name": "stdout",
     "output_type": "stream",
     "text": [
      "Vladimir Putin (ru)\n",
      "Joe Biden (us)\n",
      "Mohammed None (ma)\n",
      "Mohammed None (ma)\n",
      "Dmitry Medvedev (ru)\n",
      "Donald Trump (us)\n",
      "Jimmy Carter (us)\n",
      "Guy Verhofstadt (be)\n",
      "Yves Leterme (be)\n",
      "Herman Van Rompaey (be)\n",
      "Barack Obama (us)\n",
      "Mohammed None (ma)\n",
      "Elio Di Rupo (be)\n",
      "Mark Eyskens (be)\n",
      "George Bush (us)\n",
      "Bill Clinton (us)\n",
      "Alexander De Croo (be)\n",
      "Charles Michel (be)\n",
      "Sophie Wilmès (be)\n",
      "François Hollande (fr)\n",
      "Nicolas Sarkozy (fr)\n",
      "Emmanuel Macron (fr)\n",
      "Vladimir Putin (ru)\n",
      "Barack Obama (us)\n",
      "George Bush (us)\n",
      "Mohammed None (ma)\n",
      "Bill Clinton (us)\n",
      "Joe Biden (us)\n",
      "Mohammed None (ma)\n",
      "Dmitry Medvedev (ru)\n",
      "Donald Trump (us)\n",
      "Jimmy Carter (us)\n",
      "Mohammed None (ma)\n",
      "Yves Leterme (be)\n",
      "Herman Van Rompaey (be)\n",
      "Mark Eyskens (be)\n",
      "Guy Verhofstadt (be)\n",
      "Alexander De Croo (be)\n",
      "Elio Di Rupo (be)\n",
      "Charles Michel (be)\n",
      "François Hollande (fr)\n",
      "Sophie Wilmès (be)\n",
      "Nicolas Sarkozy (fr)\n",
      "Emmanuel Macron (fr)\n",
      "Vladimir Putin (ru)\n",
      "Mohammed None (ma)\n",
      "Dmitry Medvedev (ru)\n",
      "Mohammed None (ma)\n",
      "Mohammed None (ma)\n",
      "Barack Obama (us)\n",
      "Joe Biden (us)\n",
      "George Bush (us)\n",
      "Bill Clinton (us)\n",
      "Donald Trump (us)\n",
      "Jimmy Carter (us)\n",
      "Guy Verhofstadt (be)\n",
      "Yves Leterme (be)\n",
      "Herman Van Rompaey (be)\n",
      "Elio Di Rupo (be)\n",
      "Alexander De Croo (be)\n",
      "Charles Michel (be)\n",
      "Mark Eyskens (be)\n",
      "Sophie Wilmès (be)\n",
      "François Hollande (fr)\n",
      "Nicolas Sarkozy (fr)\n",
      "Emmanuel Macron (fr)\n",
      "Dmitry Medvedev (ru)\n",
      "Vladimir Putin (ru)\n",
      "Mohammed None (ma)\n",
      "Mohammed None (ma)\n",
      "Mohammed None (ma)\n",
      "Barack Obama (us)\n",
      "George Bush (us)\n",
      "Joe Biden (us)\n",
      "Bill Clinton (us)\n",
      "Jimmy Carter (us)\n",
      "Guy Verhofstadt (be)\n",
      "Yves Leterme (be)\n",
      "Herman Van Rompaey (be)\n",
      "Donald Trump (us)\n",
      "Elio Di Rupo (be)\n",
      "Mark Eyskens (be)\n",
      "Alexander De Croo (be)\n",
      "Sophie Wilmès (be)\n",
      "François Hollande (fr)\n",
      "Nicolas Sarkozy (fr)\n",
      "Charles Michel (be)\n",
      "Emmanuel Macron (fr)\n",
      "Dmitry Medvedev (ru)\n",
      "Mohammed None (ma)\n",
      "Vladimir Putin (ru)\n",
      "Mohammed None (ma)\n",
      "Bill Clinton (us)\n",
      "Joe Biden (us)\n",
      "Barack Obama (us)\n",
      "Mohammed None (ma)\n",
      "George Bush (us)\n",
      "Jimmy Carter (us)\n",
      "Donald Trump (us)\n",
      "Herman Van Rompaey (be)\n",
      "Yves Leterme (be)\n",
      "Guy Verhofstadt (be)\n",
      "Elio Di Rupo (be)\n",
      "Alexander De Croo (be)\n",
      "Mark Eyskens (be)\n",
      "Sophie Wilmès (be)\n",
      "Charles Michel (be)\n",
      "François Hollande (fr)\n",
      "Nicolas Sarkozy (fr)\n",
      "Emmanuel Macron (fr)\n",
      "Barack Obama (us)\n",
      "Mohammed None (ma)\n",
      "Mohammed None (ma)\n",
      "Bill Clinton (us)\n",
      "Dmitry Medvedev (ru)\n",
      "George Bush (us)\n",
      "Donald Trump (us)\n",
      "Mohammed None (ma)\n",
      "Joe Biden (us)\n",
      "Vladimir Putin (ru)\n",
      "Jimmy Carter (us)\n",
      "Herman Van Rompaey (be)\n",
      "Guy Verhofstadt (be)\n",
      "Yves Leterme (be)\n",
      "Elio Di Rupo (be)\n",
      "Mark Eyskens (be)\n",
      "Alexander De Croo (be)\n",
      "Charles Michel (be)\n",
      "Sophie Wilmès (be)\n",
      "François Hollande (fr)\n",
      "Nicolas Sarkozy (fr)\n",
      "Emmanuel Macron (fr)\n",
      "Dmitry Medvedev (ru)\n",
      "Mohammed None (ma)\n",
      "Barack Obama (us)\n",
      "Vladimir Putin (ru)\n",
      "Joe Biden (us)\n",
      "Mohammed None (ma)\n",
      "Mohammed None (ma)\n",
      "George Bush (us)\n",
      "Bill Clinton (us)\n",
      "Donald Trump (us)\n",
      "Jimmy Carter (us)\n",
      "Herman Van Rompaey (be)\n",
      "Yves Leterme (be)\n",
      "Guy Verhofstadt (be)\n",
      "Mark Eyskens (be)\n",
      "Alexander De Croo (be)\n",
      "Charles Michel (be)\n",
      "Sophie Wilmès (be)\n",
      "Nicolas Sarkozy (fr)\n",
      "François Hollande (fr)\n",
      "Elio Di Rupo (be)\n",
      "Emmanuel Macron (fr)\n",
      "Vladimir Putin (ru)\n",
      "Barack Obama (us)\n",
      "Dmitry Medvedev (ru)\n",
      "Joe Biden (us)\n",
      "Bill Clinton (us)\n",
      "Mohammed None (ma)\n",
      "Mohammed None (ma)\n",
      "Mohammed None (ma)\n",
      "George Bush (us)\n",
      "Donald Trump (us)\n",
      "Jimmy Carter (us)\n",
      "Guy Verhofstadt (be)\n",
      "Yves Leterme (be)\n",
      "Herman Van Rompaey (be)\n",
      "Alexander De Croo (be)\n",
      "Mark Eyskens (be)\n",
      "Elio Di Rupo (be)\n",
      "Charles Michel (be)\n",
      "François Hollande (fr)\n",
      "Nicolas Sarkozy (fr)\n",
      "Sophie Wilmès (be)\n",
      "Emmanuel Macron (fr)\n",
      "Vladimir Putin (ru)\n",
      "Mohammed None (ma)\n",
      "George Bush (us)\n",
      "Barack Obama (us)\n",
      "Bill Clinton (us)\n",
      "Dmitry Medvedev (ru)\n",
      "Joe Biden (us)\n",
      "Mohammed None (ma)\n",
      "Donald Trump (us)\n",
      "Jimmy Carter (us)\n",
      "Mohammed None (ma)\n",
      "Yves Leterme (be)\n",
      "Elio Di Rupo (be)\n",
      "Mark Eyskens (be)\n",
      "Alexander De Croo (be)\n",
      "Herman Van Rompaey (be)\n",
      "Guy Verhofstadt (be)\n",
      "François Hollande (fr)\n",
      "Nicolas Sarkozy (fr)\n",
      "Sophie Wilmès (be)\n",
      "Charles Michel (be)\n",
      "Emmanuel Macron (fr)\n",
      "Vladimir Putin (ru)\n",
      "Mohammed None (ma)\n",
      "Bill Clinton (us)\n",
      "Mohammed None (ma)\n",
      "Joe Biden (us)\n",
      "Mohammed None (ma)\n",
      "George Bush (us)\n",
      "Dmitry Medvedev (ru)\n",
      "Barack Obama (us)\n",
      "Donald Trump (us)\n",
      "Jimmy Carter (us)\n",
      "Guy Verhofstadt (be)\n",
      "Yves Leterme (be)\n",
      "Herman Van Rompaey (be)\n",
      "Elio Di Rupo (be)\n",
      "Alexander De Croo (be)\n",
      "Mark Eyskens (be)\n",
      "Nicolas Sarkozy (fr)\n",
      "Emmanuel Macron (fr)\n",
      "Sophie Wilmès (be)\n",
      "François Hollande (fr)\n",
      "Charles Michel (be)\n",
      "Mohammed None (ma)\n",
      "Barack Obama (us)\n",
      "Mohammed None (ma)\n",
      "Vladimir Putin (ru)\n",
      "Mohammed None (ma)\n",
      "Dmitry Medvedev (ru)\n",
      "George Bush (us)\n",
      "Donald Trump (us)\n",
      "Jimmy Carter (us)\n",
      "Joe Biden (us)\n",
      "Herman Van Rompaey (be)\n",
      "Bill Clinton (us)\n",
      "Elio Di Rupo (be)\n",
      "Mark Eyskens (be)\n",
      "Guy Verhofstadt (be)\n",
      "Yves Leterme (be)\n",
      "Alexander De Croo (be)\n",
      "Nicolas Sarkozy (fr)\n",
      "Emmanuel Macron (fr)\n",
      "Charles Michel (be)\n",
      "Sophie Wilmès (be)\n",
      "François Hollande (fr)\n",
      "Mohammed None (ma)\n",
      "Dmitry Medvedev (ru)\n",
      "Barack Obama (us)\n",
      "Bill Clinton (us)\n",
      "Joe Biden (us)\n",
      "George Bush (us)\n",
      "Mohammed None (ma)\n",
      "Mohammed None (ma)\n",
      "Donald Trump (us)\n",
      "Jimmy Carter (us)\n",
      "Herman Van Rompaey (be)\n",
      "Yves Leterme (be)\n",
      "Guy Verhofstadt (be)\n",
      "Vladimir Putin (ru)\n",
      "Mark Eyskens (be)\n",
      "Alexander De Croo (be)\n",
      "Charles Michel (be)\n",
      "Nicolas Sarkozy (fr)\n",
      "Sophie Wilmès (be)\n",
      "Elio Di Rupo (be)\n",
      "François Hollande (fr)\n",
      "Emmanuel Macron (fr)\n",
      "Vladimir Putin (ru)\n",
      "Mohammed None (ma)\n",
      "Mohammed None (ma)\n",
      "Dmitry Medvedev (ru)\n",
      "Barack Obama (us)\n",
      "George Bush (us)\n",
      "Mohammed None (ma)\n",
      "Bill Clinton (us)\n",
      "Joe Biden (us)\n",
      "Donald Trump (us)\n",
      "Jimmy Carter (us)\n",
      "Herman Van Rompaey (be)\n",
      "Elio Di Rupo (be)\n",
      "Mark Eyskens (be)\n",
      "Yves Leterme (be)\n",
      "Guy Verhofstadt (be)\n",
      "Alexander De Croo (be)\n",
      "Nicolas Sarkozy (fr)\n",
      "Charles Michel (be)\n",
      "François Hollande (fr)\n",
      "Sophie Wilmès (be)\n",
      "Emmanuel Macron (fr)\n",
      "Mohammed None (ma)\n",
      "Dmitry Medvedev (ru)\n",
      "Mohammed None (ma)\n",
      "Mohammed None (ma)\n",
      "Vladimir Putin (ru)\n",
      "Barack Obama (us)\n",
      "George Bush (us)\n",
      "Joe Biden (us)\n",
      "Bill Clinton (us)\n",
      "Donald Trump (us)\n",
      "Jimmy Carter (us)\n",
      "Guy Verhofstadt (be)\n",
      "Yves Leterme (be)\n",
      "Herman Van Rompaey (be)\n",
      "Elio Di Rupo (be)\n",
      "Alexander De Croo (be)\n",
      "Mark Eyskens (be)\n",
      "Charles Michel (be)\n",
      "Sophie Wilmès (be)\n",
      "Nicolas Sarkozy (fr)\n",
      "François Hollande (fr)\n",
      "Emmanuel Macron (fr)\n",
      "Dmitry Medvedev (ru)\n",
      "Vladimir Putin (ru)\n",
      "Barack Obama (us)\n",
      "Mohammed None (ma)\n",
      "Bill Clinton (us)\n",
      "Mohammed None (ma)\n",
      "Mohammed None (ma)\n",
      "George Bush (us)\n",
      "Joe Biden (us)\n",
      "Donald Trump (us)\n",
      "Jimmy Carter (us)\n",
      "Elio Di Rupo (be)\n",
      "Mark Eyskens (be)\n",
      "Alexander De Croo (be)\n",
      "Herman Van Rompaey (be)\n",
      "Yves Leterme (be)\n",
      "Guy Verhofstadt (be)\n",
      "Nicolas Sarkozy (fr)\n",
      "Sophie Wilmès (be)\n",
      "François Hollande (fr)\n",
      "Charles Michel (be)\n",
      "Emmanuel Macron (fr)\n",
      "Mohammed None (ma)\n",
      "Joe Biden (us)\n",
      "George Bush (us)\n",
      "Mohammed None (ma)\n",
      "Vladimir Putin (ru)\n",
      "Dmitry Medvedev (ru)\n",
      "Barack Obama (us)\n",
      "Mohammed None (ma)\n",
      "Donald Trump (us)\n",
      "Jimmy Carter (us)\n",
      "Bill Clinton (us)\n",
      "Yves Leterme (be)\n",
      "Elio Di Rupo (be)\n",
      "Mark Eyskens (be)\n",
      "Herman Van Rompaey (be)\n",
      "Guy Verhofstadt (be)\n",
      "Alexander De Croo (be)\n",
      "Charles Michel (be)\n",
      "Nicolas Sarkozy (fr)\n",
      "François Hollande (fr)\n",
      "Sophie Wilmès (be)\n",
      "Emmanuel Macron (fr)\n",
      "Vladimir Putin (ru)\n",
      "Dmitry Medvedev (ru)\n",
      "Mohammed None (ma)\n",
      "Mohammed None (ma)\n",
      "Barack Obama (us)\n",
      "Mohammed None (ma)\n",
      "Donald Trump (us)\n",
      "Jimmy Carter (us)\n",
      "Joe Biden (us)\n",
      "Bill Clinton (us)\n",
      "Guy Verhofstadt (be)\n",
      "Herman Van Rompaey (be)\n",
      "Yves Leterme (be)\n",
      "George Bush (us)\n",
      "Elio Di Rupo (be)\n",
      "Alexander De Croo (be)\n",
      "Charles Michel (be)\n",
      "Sophie Wilmès (be)\n",
      "Nicolas Sarkozy (fr)\n",
      "François Hollande (fr)\n",
      "Mark Eyskens (be)\n",
      "Emmanuel Macron (fr)\n"
     ]
    }
   ],
   "source": [
    "for leader in db[\"leaders\"].find({\"death_date\": None}, {\"last_name\":1, \"first_name\":1, \"country\":1}):\n",
    "    print(f\"{leader['first_name']} {leader['last_name']} ({leader['country']})\")"
   ]
  },
  {
   "cell_type": "markdown",
   "metadata": {},
   "source": [
    "**6. Let's now insert the leader of tomorrow: you?**\n",
    "\n",
    "As you know, MongoDB is flexible. It means that you can add entries although some fields are missing. Let's give a try:"
   ]
  },
  {
   "cell_type": "code",
   "execution_count": 10,
   "metadata": {},
   "outputs": [
    {
     "data": {
      "text/plain": [
       "InsertOneResult(ObjectId('66bf3d8be0ed33c132837d91'), acknowledged=True)"
      ]
     },
     "execution_count": 10,
     "metadata": {},
     "output_type": "execute_result"
    }
   ],
   "source": [
    "you = {\n",
    "    'first_name': 'Mustafa',\n",
    "    'last_name': 'Kemal Ataturk',\n",
    "    'birth_date': '1881',\n",
    "    'country': 'Tr'\n",
    "}\n",
    "db[\"leaders\"].insert_one(you)"
   ]
  },
  {
   "cell_type": "markdown",
   "metadata": {},
   "source": [
    "Let's have a look to your data!"
   ]
  },
  {
   "cell_type": "code",
   "execution_count": 11,
   "metadata": {},
   "outputs": [
    {
     "data": {
      "text/plain": [
       "{'_id': ObjectId('66bf3d8be0ed33c132837d91'),\n",
       " 'first_name': 'Mustafa',\n",
       " 'last_name': 'Kemal Ataturk',\n",
       " 'birth_date': '1881',\n",
       " 'country': 'Tr'}"
      ]
     },
     "execution_count": 11,
     "metadata": {},
     "output_type": "execute_result"
    }
   ],
   "source": [
    "db[\"leaders\"].find_one({\"first_name\": \"Mustafa\"})"
   ]
  },
  {
   "cell_type": "markdown",
   "metadata": {},
   "source": [
    "We can observe two things here:\n",
    "- A field `_id` has been automatically added by Mongo. This field is incremental. That means that it will always be higher than the previous element of the collection.\n",
    "- Some fields are missing (the `place_of_birth` for instance). This is a property of NoSQL. All fields are not mandatory!\n",
    "\n",
    "We can check missing values by using the query `{\"$exists\":False}`:"
   ]
  },
  {
   "cell_type": "code",
   "execution_count": 12,
   "metadata": {},
   "outputs": [
    {
     "name": "stdout",
     "output_type": "stream",
     "text": [
      "{'_id': ObjectId('66bf3d8be0ed33c132837d91'), 'first_name': 'Mustafa', 'last_name': 'Kemal Ataturk', 'birth_date': '1881', 'country': 'Tr'}\n"
     ]
    }
   ],
   "source": [
    "for leader in db[\"leaders\"].find({\"place_of_birth\":{\"$exists\":False}}):\n",
    "    print(leader)"
   ]
  },
  {
   "cell_type": "markdown",
   "metadata": {},
   "source": [
    "### Update data\n",
    "\n",
    "Since your place of birth is missing in the data, let's add it now. The update function has two main arguments:\n",
    "- a query that will select the entries to update\n",
    "- an update operation. As always, it is formatted as a dictionary"
   ]
  },
  {
   "cell_type": "code",
   "execution_count": 13,
   "metadata": {},
   "outputs": [
    {
     "data": {
      "text/plain": [
       "UpdateResult({'n': 1, 'nModified': 1, 'ok': 1.0, 'updatedExisting': True}, acknowledged=True)"
      ]
     },
     "execution_count": 13,
     "metadata": {},
     "output_type": "execute_result"
    }
   ],
   "source": [
    "db[\"leaders\"].update_one({\"first_name\": \"Mustafa\"}, {\"$set\": {\"place_of_birth\": \"Selanik\"}})"
   ]
  },
  {
   "cell_type": "markdown",
   "metadata": {},
   "source": [
    "#### Remove data\n",
    "\n",
    "Your dream is over ;-) Since you will not be a leader of tomorrow, we will remove you from the collection. The `delete` (or `delete_one`) function has one main argument: the query that will select the entries to be removed."
   ]
  },
  {
   "cell_type": "code",
   "execution_count": 14,
   "metadata": {},
   "outputs": [
    {
     "data": {
      "text/plain": [
       "DeleteResult({'n': 1, 'ok': 1.0}, acknowledged=True)"
      ]
     },
     "execution_count": 14,
     "metadata": {},
     "output_type": "execute_result"
    }
   ],
   "source": [
    "db[\"leaders\"].delete_one({\"first_name\": \"Mustafa\"})"
   ]
  },
  {
   "cell_type": "markdown",
   "metadata": {},
   "source": [
    "## Your Turn!\n",
    "\n",
    "Based on your knowledge and some Google search try to create the following queries:\n",
    "\n",
    "- Remove the leaders who have an empty or null (`None`) last name\n",
    "- Display all unique first names from the collection\n",
    "- Transform all the dates of the dataset by a datetime object (they are currently strings which is not a good practice). You can use a python script that interacts with the DB instead of doing everything in a single query\n",
    "- Display the 10 older leaders ordered by their birth date (search for how to sort and to use limits in MongoDB)\n",
    "- Create a Python script that computes the numbers of leaders by country\n",
    "- Do the same by using a MongoDB [aggregation pipeline](https://www.mongodb.com/docs/manual/aggregation/)"
   ]
  },
  {
   "cell_type": "code",
   "execution_count": 20,
   "metadata": {},
   "outputs": [],
   "source": [
    "# Your code here (feel free to add some extra code blocks!)\n",
    "\n",
    "\n",
    "# Remove the leaders who have an empty or null (`None`) last name\n",
    "query = {\n",
    "    \"$or\": [\n",
    "        {\"last_name\": {\"$exists\": False}},  \n",
    "        {\"last_name\": None},           \n",
    "        {\"last_name\": \"\"}                \n",
    "    ]\n",
    "}\n",
    "\n",
    "for leader in db[\"leaders\"].find(query):\n",
    "    print(leader)\n"
   ]
  },
  {
   "cell_type": "code",
   "execution_count": 21,
   "metadata": {},
   "outputs": [
    {
     "data": {
      "text/plain": [
       "['Abraham',\n",
       " 'Achille',\n",
       " 'Adolphe',\n",
       " 'Alain',\n",
       " 'Albert',\n",
       " 'Alexander',\n",
       " 'Alexandre',\n",
       " 'Aloïs',\n",
       " 'Andrew',\n",
       " 'Auguste',\n",
       " 'Barack',\n",
       " 'Barthélemy',\n",
       " 'Benjamin',\n",
       " 'Bill',\n",
       " 'Boris',\n",
       " 'Camille',\n",
       " 'Charles',\n",
       " 'Chester',\n",
       " 'Clément',\n",
       " 'Dmitry',\n",
       " 'Donald',\n",
       " 'Dwight',\n",
       " 'Edmond',\n",
       " 'Elio',\n",
       " 'Emmanuel',\n",
       " 'Felix',\n",
       " 'Franklin',\n",
       " 'Frans',\n",
       " 'François',\n",
       " 'Frédéric',\n",
       " 'Félix',\n",
       " 'Gaston',\n",
       " 'George',\n",
       " 'Georges',\n",
       " 'Gerald',\n",
       " 'Guy',\n",
       " 'Gérard',\n",
       " 'Harry',\n",
       " 'Hassan',\n",
       " 'Henri',\n",
       " 'Henry',\n",
       " 'Herbert',\n",
       " 'Herman',\n",
       " 'Hubert',\n",
       " 'Jacques',\n",
       " 'James',\n",
       " 'Jean',\n",
       " 'Jean-Baptiste',\n",
       " 'Jean-Luc',\n",
       " 'Jimmy',\n",
       " 'Joe',\n",
       " 'John',\n",
       " 'Joseph',\n",
       " 'Jules',\n",
       " 'Leo',\n",
       " 'Louis',\n",
       " 'Lyndon',\n",
       " 'Léon',\n",
       " 'Marie',\n",
       " 'Mark',\n",
       " 'Martin',\n",
       " 'Millard',\n",
       " 'Mohammed',\n",
       " 'Napoléon',\n",
       " 'Nicolas',\n",
       " 'Patrice',\n",
       " 'Paul',\n",
       " 'Paul-Henri',\n",
       " 'Paul-Émile',\n",
       " 'Pierre',\n",
       " 'Pieter',\n",
       " 'Prosper',\n",
       " 'Raymond',\n",
       " 'René',\n",
       " 'Richard',\n",
       " 'Ronald',\n",
       " 'Rutherford',\n",
       " 'Sophie',\n",
       " 'Stephen',\n",
       " 'Sylvain',\n",
       " 'Theodore',\n",
       " 'Thomas',\n",
       " 'Théodore',\n",
       " 'Ulysses',\n",
       " 'Valéry',\n",
       " 'Vincent',\n",
       " 'Vladimir',\n",
       " 'Walthère',\n",
       " 'Warren',\n",
       " 'Wilfried',\n",
       " 'William',\n",
       " 'Woodrow',\n",
       " 'Yves',\n",
       " 'Zachary',\n",
       " 'Émile',\n",
       " 'Étienne']"
      ]
     },
     "execution_count": 21,
     "metadata": {},
     "output_type": "execute_result"
    }
   ],
   "source": [
    "# Display all unique first names from the collection\n",
    "db[\"leaders\"].find().distinct(\"first_name\")"
   ]
  },
  {
   "cell_type": "code",
   "execution_count": 23,
   "metadata": {},
   "outputs": [
    {
     "name": "stdout",
     "output_type": "stream",
     "text": [
      "{'_id': ObjectId('66bf0ac5bc51122d9db63918'), 'id': 'Q9588', 'first_name': 'Richard', 'last_name': 'Nixon', 'birth_date': {'$toDate': '$birth_date'}, 'death_date': '1994-04-22', 'place_of_birth': 'Yorba Linda', 'wikipedia_url': 'https://en.wikipedia.org/wiki/Richard_Nixon', 'start_mandate': '1969-01-20', 'end_mandate': '1974-08-09', 'country': 'us'}\n",
      "{'_id': ObjectId('66bf0ac5bc51122d9db63919'), 'id': 'Q9582', 'first_name': 'Gerald', 'last_name': 'Ford', 'birth_date': {'$toDate': '$birth_date'}, 'death_date': '2006-12-26', 'place_of_birth': 'Omaha', 'wikipedia_url': 'https://en.wikipedia.org/wiki/Gerald_Ford', 'start_mandate': '1974-08-09', 'end_mandate': '1977-01-20', 'country': 'us'}\n",
      "{'_id': ObjectId('66bf0ac5bc51122d9db63916'), 'id': 'Q8007', 'first_name': 'Franklin', 'last_name': 'Roosevelt', 'birth_date': {'$toDate': '$birth_date'}, 'death_date': '1945-04-12', 'place_of_birth': 'Hyde Park', 'wikipedia_url': 'https://en.wikipedia.org/wiki/Franklin_D._Roosevelt', 'start_mandate': '1933-03-04', 'end_mandate': '1945-04-12', 'country': 'us'}\n",
      "{'_id': ObjectId('66bf0ac5bc51122d9db63915'), 'id': 'Q7747', 'first_name': 'Vladimir', 'last_name': 'Putin', 'birth_date': {'$toDate': '$birth_date'}, 'death_date': None, 'place_of_birth': 'Saint Petersburg', 'wikipedia_url': 'https://ru.wikipedia.org/wiki/%D0%9F%D1%83%D1%82%D0%B8%D0%BD,_%D0%92%D0%BB%D0%B0%D0%B4%D0%B8%D0%BC%D0%B8%D1%80_%D0%92%D0%BB%D0%B0%D0%B4%D0%B8%D0%BC%D0%B8%D1%80%D0%BE%D0%B2%D0%B8%D1%87', 'start_mandate': '2000-05-07', 'end_mandate': '2008-05-07', 'country': 'ru'}\n",
      "{'_id': ObjectId('66bf0ac5bc51122d9db63917'), 'id': 'Q8612', 'first_name': 'Andrew', 'last_name': 'Johnson', 'birth_date': {'$toDate': '$birth_date'}, 'death_date': '1875-07-31', 'place_of_birth': 'Raleigh', 'wikipedia_url': 'https://en.wikipedia.org/wiki/Andrew_Johnson', 'start_mandate': '1865-04-15', 'end_mandate': '1869-03-04', 'country': 'us'}\n"
     ]
    }
   ],
   "source": [
    "# Transform all the dates of the dataset by a datetime object (they are currently strings which is not a good practice). You can use a python script that interacts with the DB instead of doing everything in a single query\n",
    "db[\"leaders\"].update_many({}, {\"$set\": {\"birth_date\": {\"$toDate\": \"$birth_date\"}}})\n",
    "\n",
    "\n",
    "for leader in db[\"leaders\"].find().sort(\"birth_date\", 1).limit(5):\n",
    "    print(leader)\n",
    "    "
   ]
  },
  {
   "cell_type": "code",
   "execution_count": 24,
   "metadata": {},
   "outputs": [
    {
     "name": "stdout",
     "output_type": "stream",
     "text": [
      "{'_id': ObjectId('66bf0ac5bc51122d9db6391d'), 'id': 'Q9916', 'first_name': 'Dwight', 'last_name': 'Eisenhower', 'birth_date': {'$toDate': '$birth_date'}, 'death_date': '1969-03-28', 'place_of_birth': 'Denison', 'wikipedia_url': 'https://en.wikipedia.org/wiki/Dwight_D._Eisenhower', 'start_mandate': '1953-01-20', 'end_mandate': '1961-01-20', 'country': 'us'}\n",
      "{'_id': ObjectId('66bf0ac5bc51122d9db6391e'), 'id': 'Q9960', 'first_name': 'Ronald', 'last_name': 'Reagan', 'birth_date': {'$toDate': '$birth_date'}, 'death_date': '2004-06-05', 'place_of_birth': 'Tampico', 'wikipedia_url': 'https://en.wikipedia.org/wiki/Ronald_Reagan', 'start_mandate': '1981-01-20', 'end_mandate': '1989-01-20', 'country': 'us'}\n",
      "{'_id': ObjectId('66bf0ac5bc51122d9db63919'), 'id': 'Q9582', 'first_name': 'Gerald', 'last_name': 'Ford', 'birth_date': {'$toDate': '$birth_date'}, 'death_date': '2006-12-26', 'place_of_birth': 'Omaha', 'wikipedia_url': 'https://en.wikipedia.org/wiki/Gerald_Ford', 'start_mandate': '1974-08-09', 'end_mandate': '1977-01-20', 'country': 'us'}\n",
      "{'_id': ObjectId('66bf0ac5bc51122d9db6391c'), 'id': 'Q9696', 'first_name': 'John', 'last_name': 'Kennedy', 'birth_date': {'$toDate': '$birth_date'}, 'death_date': '1963-11-22', 'place_of_birth': 'Brookline', 'wikipedia_url': 'https://en.wikipedia.org/wiki/John_F._Kennedy', 'start_mandate': '1961-01-20', 'end_mandate': '1963-11-22', 'country': 'us'}\n",
      "{'_id': ObjectId('66bf0ac5bc51122d9db6391a'), 'id': 'Q9640', 'first_name': 'Lyndon', 'last_name': 'Johnson', 'birth_date': {'$toDate': '$birth_date'}, 'death_date': '1973-01-22', 'place_of_birth': 'Stonewall', 'wikipedia_url': 'https://en.wikipedia.org/wiki/Lyndon_B._Johnson', 'start_mandate': '1963-11-22', 'end_mandate': '1969-01-20', 'country': 'us'}\n",
      "{'_id': ObjectId('66bf0ac5bc51122d9db63918'), 'id': 'Q9588', 'first_name': 'Richard', 'last_name': 'Nixon', 'birth_date': {'$toDate': '$birth_date'}, 'death_date': '1994-04-22', 'place_of_birth': 'Yorba Linda', 'wikipedia_url': 'https://en.wikipedia.org/wiki/Richard_Nixon', 'start_mandate': '1969-01-20', 'end_mandate': '1974-08-09', 'country': 'us'}\n",
      "{'_id': ObjectId('66bf0ac5bc51122d9db63916'), 'id': 'Q8007', 'first_name': 'Franklin', 'last_name': 'Roosevelt', 'birth_date': {'$toDate': '$birth_date'}, 'death_date': '1945-04-12', 'place_of_birth': 'Hyde Park', 'wikipedia_url': 'https://en.wikipedia.org/wiki/Franklin_D._Roosevelt', 'start_mandate': '1933-03-04', 'end_mandate': '1945-04-12', 'country': 'us'}\n",
      "{'_id': ObjectId('66bf0ac5bc51122d9db63915'), 'id': 'Q7747', 'first_name': 'Vladimir', 'last_name': 'Putin', 'birth_date': {'$toDate': '$birth_date'}, 'death_date': None, 'place_of_birth': 'Saint Petersburg', 'wikipedia_url': 'https://ru.wikipedia.org/wiki/%D0%9F%D1%83%D1%82%D0%B8%D0%BD,_%D0%92%D0%BB%D0%B0%D0%B4%D0%B8%D0%BC%D0%B8%D1%80_%D0%92%D0%BB%D0%B0%D0%B4%D0%B8%D0%BC%D0%B8%D1%80%D0%BE%D0%B2%D0%B8%D1%87', 'start_mandate': '2000-05-07', 'end_mandate': '2008-05-07', 'country': 'ru'}\n",
      "{'_id': ObjectId('66bf0ac5bc51122d9db63917'), 'id': 'Q8612', 'first_name': 'Andrew', 'last_name': 'Johnson', 'birth_date': {'$toDate': '$birth_date'}, 'death_date': '1875-07-31', 'place_of_birth': 'Raleigh', 'wikipedia_url': 'https://en.wikipedia.org/wiki/Andrew_Johnson', 'start_mandate': '1865-04-15', 'end_mandate': '1869-03-04', 'country': 'us'}\n",
      "{'_id': ObjectId('66bf0ac5bc51122d9db6391b'), 'id': 'Q6279', 'first_name': 'Joe', 'last_name': 'Biden', 'birth_date': {'$toDate': '$birth_date'}, 'death_date': None, 'place_of_birth': \"St. Mary's Hospital\", 'wikipedia_url': 'https://en.wikipedia.org/wiki/Joe_Biden', 'start_mandate': '2021-01-20', 'end_mandate': None, 'country': 'us'}\n"
     ]
    }
   ],
   "source": [
    "# Display the 10 older leaders ordered by their birth date (search for how to sort and to use limits in MongoDB)\n",
    "\n",
    "for leader in db[\"leaders\"].find().sort(\"birth_date\", 1).limit(10):\n",
    "    print(leader)"
   ]
  },
  {
   "cell_type": "code",
   "execution_count": 25,
   "metadata": {},
   "outputs": [
    {
     "data": {
      "text/plain": [
       "<pymongo.command_cursor.CommandCursor at 0x1a6cf255310>"
      ]
     },
     "execution_count": 25,
     "metadata": {},
     "output_type": "execute_result"
    }
   ],
   "source": [
    "# Create a Python script that computes the numbers of leaders by country\n",
    "\n",
    "db[\"leaders\"].aggregate([ {\"$group\": {\"_id\": \"$country\", \"count\": {\"$sum\": 1}}} ])"
   ]
  },
  {
   "cell_type": "code",
   "execution_count": 29,
   "metadata": {},
   "outputs": [
    {
     "data": {
      "text/plain": [
       "<pymongo.command_cursor.CommandCursor at 0x1a6cf257490>"
      ]
     },
     "execution_count": 29,
     "metadata": {},
     "output_type": "execute_result"
    }
   ],
   "source": [
    "db[\"leaders\"].aggregate([\n",
    "    {\"$group\": {\"_id\": \"$country\", \"count\": {\"$sum\": \"$quantity\"}}}\n",
    "])\n"
   ]
  },
  {
   "cell_type": "markdown",
   "metadata": {},
   "source": [
    "## Resources:\n",
    "* [NoSQL Concepts (DataCamp)](https://www.datacamp.com/courses/nosql-concepts)\n",
    "* [Introduction to MongoDB using Python (DataCamp)](https://www.datacamp.com/courses/introduction-to-using-mongodb-for-data-science-with-python)\n",
    "* [Getting started with MongoDB](https://docs.mongodb.com/manual/tutorial/)\n",
    "* [Python MongoDB Tutorial](https://www.mongodb.com/blog/post/getting-started-with-python-and-mongodb)\n",
    "* [Introduction to MongoDB Learning Path](https://learn.mongodb.com/learning-paths/introduction-to-mongodb)\n",
    "* [Build an App With Python, Flask, and MongoDB to Track UFOs](https://www.mongodb.com/developer/languages/python/flask-app-ufo-tracking/)"
   ]
  }
 ],
 "metadata": {
  "kernelspec": {
   "display_name": "Python 3.8.6 64-bit",
   "language": "python",
   "name": "python3"
  },
  "language_info": {
   "codemirror_mode": {
    "name": "ipython",
    "version": 3
   },
   "file_extension": ".py",
   "mimetype": "text/x-python",
   "name": "python",
   "nbconvert_exporter": "python",
   "pygments_lexer": "ipython3",
   "version": "3.11.9"
  },
  "vscode": {
   "interpreter": {
    "hash": "082e9a3bcad0a290d0001e938aa60b99250c6c2ef33a923c00b70f9826caf4b7"
   }
  }
 },
 "nbformat": 4,
 "nbformat_minor": 4
}
